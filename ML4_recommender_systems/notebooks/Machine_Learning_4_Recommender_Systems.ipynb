{
 "cells": [
  {
   "cell_type": "code",
   "execution_count": 3,
   "metadata": {},
   "outputs": [],
   "source": [
    "#!pip install tensorflow"
   ]
  },
  {
   "cell_type": "code",
   "execution_count": 4,
   "metadata": {},
   "outputs": [
    {
     "name": "stdout",
     "output_type": "stream",
     "text": [
      "WARNING:tensorflow:From c:\\Users\\eusou\\Anaconda3\\Lib\\site-packages\\keras\\src\\losses.py:2976: The name tf.losses.sparse_softmax_cross_entropy is deprecated. Please use tf.compat.v1.losses.sparse_softmax_cross_entropy instead.\n",
      "\n"
     ]
    }
   ],
   "source": [
    "import tensorflow as tf"
   ]
  },
  {
   "cell_type": "code",
   "execution_count": 5,
   "metadata": {},
   "outputs": [
    {
     "data": {
      "text/plain": [
       "[]"
      ]
     },
     "execution_count": 5,
     "metadata": {},
     "output_type": "execute_result"
    }
   ],
   "source": [
    "\n",
    "tf.config.list_physical_devices('GPU')"
   ]
  },
  {
   "cell_type": "code",
   "execution_count": 6,
   "metadata": {},
   "outputs": [],
   "source": [
    "import numpy as np\n",
    "import pandas as pd\n",
    "import keras\n",
    "import matplotlib.pyplot as plt\n",
    "from matplotlib import rcParams\n",
    "%matplotlib inline"
   ]
  },
  {
   "cell_type": "markdown",
   "metadata": {},
   "source": [
    "**Resources** :\n",
    "\n",
    "*Matrix Factorization techniques for Recommender Systems*, Koren (2009)    \n",
    "https://www.inf.unibz.it/~ricci/ISR/papers/ieeecomputer.pdf\n",
    "\n",
    "Hands on Machine Learning with scikit-learn and tensorflow:             \n",
    "https://drive.google.com/file/d/1t0rc3x5YQBgLXVLET6BzR4jn5vzMI_m0/view?usp=sharing\n",
    "\n",
    "The movieLens dataset:                                                \n",
    "https://grouplens.org/datasets/movielens/ \n",
    "\n",
    "Keras Functional API doc :                                            \n",
    "https://keras.io/guides/functional_api/\n"
   ]
  },
  {
   "cell_type": "markdown",
   "metadata": {},
   "source": [
    "# Recommender systems : collaborative filtering via matrix factorization"
   ]
  },
  {
   "cell_type": "markdown",
   "metadata": {},
   "source": [
    "Do you wonder how Netflix is able to recommend you movies despite it doesn't know anything about you but the ratings you gave to the movies you watched ? This is what we are going to explore during this 3 days machine learning module.\n",
    "\n",
    "First off, let's learn about what are recommender system, collaborative filtering and matrix factorization techniques, which are all very well introduced in Koren's 2009 famous article : *Matrix Factorization techniques for Recommender Systems* : https://www.inf.unibz.it/~ricci/ISR/papers/ieeecomputer.pdf . Read the 4 first pages (up to section *adding biases* included). \n",
    "\n",
    "Through this notebook we are going to re-implement the model described in the pages you read, and apply it to a classic movie ratings dataset coming from the website *movieLens*. To do so, we will use a powerful deep learning python library called *Keras*, that makes it easy to train complex models based on linear algebra."
   ]
  },
  {
   "cell_type": "markdown",
   "metadata": {},
   "source": [
    "## Load the dataset"
   ]
  },
  {
   "cell_type": "markdown",
   "metadata": {},
   "source": [
    "For this module, we are going to use the movieLens dataset, that contains data from the movie recommending website movielens. The data is a subset of ratings from 0 to 5 given by some users of the website to a subset of movies. You can read more about it here (we are using the latest small dataset) : https://grouplens.org/datasets/movielens/ , and in the *README* file that is in the *data/ml-latest-small/* folder.\n",
    "\n",
    "Load the ratings data from the `ratings.csv` file into a dataframe. The userId and movieId provided in the file don't start from 0, and are not contiguous (i.e. there are missing indexes).\n",
    "\n",
    "Re-index the user and movie ids to indexes going from 0 to `nb_users` and 0 to `nb_movies` respectively, by building two dictionnaries `user_ids_map` and `movie_ids_map` that maps the file ids to your new ids. \n",
    "And finally, split the rows of this dataframe in a random 90%/10% train/test sets.\n",
    "\n",
    "To do so, fill the `get_train_test_sets` function below, and respect the returned objects structures that are described in the docstring.\n"
   ]
  },
  {
   "cell_type": "code",
   "execution_count": 11,
   "metadata": {},
   "outputs": [],
   "source": [
    "#from collections import defaultdict\n",
    "\n",
    "def get_train_test_sets(data_path, train_prop = 0.9):\n",
    "    \"\"\"\n",
    "    Build train and test sets and reindex userIds and MovieIds from 0 with contiguous indexes.\n",
    "    \n",
    "    Input: \n",
    "        data_path : string : the path to the ratings file\n",
    "        train_prop : float : The proportion of the training set \n",
    "    \n",
    "    Output:\n",
    "        train : pandas.DataFrame : A dataframe with columns [userId, movieId, rating, timestamp], where\n",
    "            the userId and movieId value have been replaced with new ids starting at 0. \n",
    "            Contains `train_prop` random entries from the input file.\n",
    "        test : pandas.DataFrame : Same as `train`, contains the 1 - `train_prop` remaining entries.\n",
    "        nb_users : int : Number of unique user ids\n",
    "        nb_movies : int : Number of unique movie ids\n",
    "        user_ids_map : dict : A mapping of original file userId to a new index starting at 0.\n",
    "            Keys are int from the original userId column, values are int of the new indexation.\n",
    "        movie_ids_map : dict : Same as `user_ids_map` for the movieIds.\n",
    "    \"\"\"\n",
    "    \n",
    "    ratings_df = pd.read_csv(data_path)\n",
    "\n",
    "    # 2.Building dictionnary `user_ids_map`\n",
    "    unique_user_ids = ratings_df['userId'].unique()\n",
    "    user_ids_map = {user_id: idx for idx, user_id in enumerate(unique_user_ids)}\n",
    "\n",
    "    # 3.Building dictionnary 'movie_ids_map'\n",
    "    unique_movie_ids = ratings_df['movieId'].unique()\n",
    "    movie_ids_map = {movie_id: idx for idx, movie_id in enumerate(unique_movie_ids)}\n",
    "\n",
    "    nb_users = ratings_df['userId'].nunique()\n",
    "    nb_movies = len(movie_ids_map)\n",
    "    \n",
    "    ratings_df['userId'] = ratings_df['userId'].map(user_ids_map)\n",
    "    ratings_df['movieId'] = ratings_df['movieId'].map(movie_ids_map)\n",
    "\n",
    "    train = ratings_df.sample(frac=train_prop)\n",
    "    test = ratings_df.drop(train.index)\n",
    "\n",
    "\n",
    "    return train, test, nb_users, nb_movies, user_ids_map, movie_ids_map"
   ]
  },
  {
   "cell_type": "code",
   "execution_count": null,
   "metadata": {},
   "outputs": [],
   "source": []
  },
  {
   "cell_type": "code",
   "execution_count": 12,
   "metadata": {
    "scrolled": true
   },
   "outputs": [
    {
     "name": "stdout",
     "output_type": "stream",
     "text": [
      "There are 9724 movies, 610 users, and 100836 ratings\n"
     ]
    }
   ],
   "source": [
    "ratings_s_path =  '../data/ml-latest-small/ratings.csv'\n",
    "train, test, nb_users, nb_movies, user_ids_map, movie_ids_map = get_train_test_sets(ratings_s_path)\n",
    "dataset = pd.concat((train,test), axis = 0)\n",
    "\n",
    "print(\"There are %i movies, %i users, and %i ratings\" % (nb_movies, nb_users, dataset.shape[0]))"
   ]
  },
  {
   "cell_type": "code",
   "execution_count": 13,
   "metadata": {},
   "outputs": [],
   "source": [
    "X_train = [train[\"userId\"].to_numpy(), train[\"movieId\"].to_numpy()]\n",
    "y_train = train[\"rating\"].to_numpy()\n",
    "\n",
    "X_test = [test[\"userId\"].to_numpy(), test[\"movieId\"].to_numpy()]\n",
    "y_test = test[\"rating\"].to_numpy()"
   ]
  },
  {
   "cell_type": "markdown",
   "metadata": {},
   "source": [
    "Let's have a quick look at the ratings distribution:"
   ]
  },
  {
   "cell_type": "code",
   "execution_count": 14,
   "metadata": {
    "scrolled": true
   },
   "outputs": [
    {
     "data": {
      "text/plain": [
       "<Axes: >"
      ]
     },
     "execution_count": 14,
     "metadata": {},
     "output_type": "execute_result"
    },
    {
     "data": {
      "image/png": "[encoded data removed]",
      "text/plain": [
       "<Figure size 640x480 with 1 Axes>"
      ]
     },
     "metadata": {},
     "output_type": "display_data"
    }
   ],
   "source": [
    "dataset['rating'].hist(bins=5)"
   ]
  },
  {
   "cell_type": "markdown",
   "metadata": {},
   "source": [
    "In this dataset there are a lot of missing values, because not all the user/movie pairs have an associated rating. Indeed, each user rates only a few movies ! The goal of this notebook is to predict (some of) the missing user/movie ratings.\n",
    "\n",
    "Print how many movies each of the 5 first users have rated, and print the percentage of available ratings in the whole dataset (i.e. the ratio between number of ratings and all the possible users/movies combinations):"
   ]
  },
  {
   "cell_type": "code",
   "execution_count": 15,
   "metadata": {},
   "outputs": [],
   "source": [
    "dataset_recommend = dataset.pivot_table(index='userId', columns='movieId', values='rating')"
   ]
  },
  {
   "cell_type": "code",
   "execution_count": 16,
   "metadata": {},
   "outputs": [
    {
     "data": {
      "text/html": [
       "<div>\n",
       "<style scoped>\n",
       "    .dataframe tbody tr th:only-of-type {\n",
       "        vertical-align: middle;\n",
       "    }\n",
       "\n",
       "    .dataframe tbody tr th {\n",
       "        vertical-align: top;\n",
       "    }\n",
       "\n",
       "    .dataframe thead th {\n",
       "        text-align: right;\n",
       "    }\n",
       "</style>\n",
       "<table border=\"1\" class=\"dataframe\">\n",
       "  <thead>\n",
       "    <tr style=\"text-align: right;\">\n",
       "      <th>movieId</th>\n",
       "      <th>0</th>\n",
       "      <th>1</th>\n",
       "      <th>2</th>\n",
       "      <th>3</th>\n",
       "      <th>4</th>\n",
       "      <th>5</th>\n",
       "      <th>6</th>\n",
       "      <th>7</th>\n",
       "      <th>8</th>\n",
       "      <th>9</th>\n",
       "      <th>...</th>\n",
       "      <th>9714</th>\n",
       "      <th>9715</th>\n",
       "      <th>9716</th>\n",
       "      <th>9717</th>\n",
       "      <th>9718</th>\n",
       "      <th>9719</th>\n",
       "      <th>9720</th>\n",
       "      <th>9721</th>\n",
       "      <th>9722</th>\n",
       "      <th>9723</th>\n",
       "    </tr>\n",
       "    <tr>\n",
       "      <th>userId</th>\n",
       "      <th></th>\n",
       "      <th></th>\n",
       "      <th></th>\n",
       "      <th></th>\n",
       "      <th></th>\n",
       "      <th></th>\n",
       "      <th></th>\n",
       "      <th></th>\n",
       "      <th></th>\n",
       "      <th></th>\n",
       "      <th></th>\n",
       "      <th></th>\n",
       "      <th></th>\n",
       "      <th></th>\n",
       "      <th></th>\n",
       "      <th></th>\n",
       "      <th></th>\n",
       "      <th></th>\n",
       "      <th></th>\n",
       "      <th></th>\n",
       "      <th></th>\n",
       "    </tr>\n",
       "  </thead>\n",
       "  <tbody>\n",
       "    <tr>\n",
       "      <th>0</th>\n",
       "      <td>4.0</td>\n",
       "      <td>4.0</td>\n",
       "      <td>4.0</td>\n",
       "      <td>5.0</td>\n",
       "      <td>5.0</td>\n",
       "      <td>3.0</td>\n",
       "      <td>5.0</td>\n",
       "      <td>4.0</td>\n",
       "      <td>5.0</td>\n",
       "      <td>5.0</td>\n",
       "      <td>...</td>\n",
       "      <td>NaN</td>\n",
       "      <td>NaN</td>\n",
       "      <td>NaN</td>\n",
       "      <td>NaN</td>\n",
       "      <td>NaN</td>\n",
       "      <td>NaN</td>\n",
       "      <td>NaN</td>\n",
       "      <td>NaN</td>\n",
       "      <td>NaN</td>\n",
       "      <td>NaN</td>\n",
       "    </tr>\n",
       "    <tr>\n",
       "      <th>1</th>\n",
       "      <td>NaN</td>\n",
       "      <td>NaN</td>\n",
       "      <td>NaN</td>\n",
       "      <td>NaN</td>\n",
       "      <td>NaN</td>\n",
       "      <td>NaN</td>\n",
       "      <td>NaN</td>\n",
       "      <td>NaN</td>\n",
       "      <td>NaN</td>\n",
       "      <td>NaN</td>\n",
       "      <td>...</td>\n",
       "      <td>NaN</td>\n",
       "      <td>NaN</td>\n",
       "      <td>NaN</td>\n",
       "      <td>NaN</td>\n",
       "      <td>NaN</td>\n",
       "      <td>NaN</td>\n",
       "      <td>NaN</td>\n",
       "      <td>NaN</td>\n",
       "      <td>NaN</td>\n",
       "      <td>NaN</td>\n",
       "    </tr>\n",
       "    <tr>\n",
       "      <th>2</th>\n",
       "      <td>NaN</td>\n",
       "      <td>NaN</td>\n",
       "      <td>NaN</td>\n",
       "      <td>NaN</td>\n",
       "      <td>NaN</td>\n",
       "      <td>NaN</td>\n",
       "      <td>NaN</td>\n",
       "      <td>NaN</td>\n",
       "      <td>NaN</td>\n",
       "      <td>NaN</td>\n",
       "      <td>...</td>\n",
       "      <td>NaN</td>\n",
       "      <td>NaN</td>\n",
       "      <td>NaN</td>\n",
       "      <td>NaN</td>\n",
       "      <td>NaN</td>\n",
       "      <td>NaN</td>\n",
       "      <td>NaN</td>\n",
       "      <td>NaN</td>\n",
       "      <td>NaN</td>\n",
       "      <td>NaN</td>\n",
       "    </tr>\n",
       "    <tr>\n",
       "      <th>3</th>\n",
       "      <td>NaN</td>\n",
       "      <td>NaN</td>\n",
       "      <td>NaN</td>\n",
       "      <td>2.0</td>\n",
       "      <td>NaN</td>\n",
       "      <td>NaN</td>\n",
       "      <td>NaN</td>\n",
       "      <td>NaN</td>\n",
       "      <td>NaN</td>\n",
       "      <td>NaN</td>\n",
       "      <td>...</td>\n",
       "      <td>NaN</td>\n",
       "      <td>NaN</td>\n",
       "      <td>NaN</td>\n",
       "      <td>NaN</td>\n",
       "      <td>NaN</td>\n",
       "      <td>NaN</td>\n",
       "      <td>NaN</td>\n",
       "      <td>NaN</td>\n",
       "      <td>NaN</td>\n",
       "      <td>NaN</td>\n",
       "    </tr>\n",
       "    <tr>\n",
       "      <th>4</th>\n",
       "      <td>4.0</td>\n",
       "      <td>NaN</td>\n",
       "      <td>NaN</td>\n",
       "      <td>NaN</td>\n",
       "      <td>4.0</td>\n",
       "      <td>NaN</td>\n",
       "      <td>NaN</td>\n",
       "      <td>4.0</td>\n",
       "      <td>NaN</td>\n",
       "      <td>NaN</td>\n",
       "      <td>...</td>\n",
       "      <td>NaN</td>\n",
       "      <td>NaN</td>\n",
       "      <td>NaN</td>\n",
       "      <td>NaN</td>\n",
       "      <td>NaN</td>\n",
       "      <td>NaN</td>\n",
       "      <td>NaN</td>\n",
       "      <td>NaN</td>\n",
       "      <td>NaN</td>\n",
       "      <td>NaN</td>\n",
       "    </tr>\n",
       "  </tbody>\n",
       "</table>\n",
       "<p>5 rows × 9724 columns</p>\n",
       "</div>"
      ],
      "text/plain": [
       "movieId  0     1     2     3     4     5     6     7     8     9     ...  \\\n",
       "userId                                                               ...   \n",
       "0         4.0   4.0   4.0   5.0   5.0   3.0   5.0   4.0   5.0   5.0  ...   \n",
       "1         NaN   NaN   NaN   NaN   NaN   NaN   NaN   NaN   NaN   NaN  ...   \n",
       "2         NaN   NaN   NaN   NaN   NaN   NaN   NaN   NaN   NaN   NaN  ...   \n",
       "3         NaN   NaN   NaN   2.0   NaN   NaN   NaN   NaN   NaN   NaN  ...   \n",
       "4         4.0   NaN   NaN   NaN   4.0   NaN   NaN   4.0   NaN   NaN  ...   \n",
       "\n",
       "movieId  9714  9715  9716  9717  9718  9719  9720  9721  9722  9723  \n",
       "userId                                                               \n",
       "0         NaN   NaN   NaN   NaN   NaN   NaN   NaN   NaN   NaN   NaN  \n",
       "1         NaN   NaN   NaN   NaN   NaN   NaN   NaN   NaN   NaN   NaN  \n",
       "2         NaN   NaN   NaN   NaN   NaN   NaN   NaN   NaN   NaN   NaN  \n",
       "3         NaN   NaN   NaN   NaN   NaN   NaN   NaN   NaN   NaN   NaN  \n",
       "4         NaN   NaN   NaN   NaN   NaN   NaN   NaN   NaN   NaN   NaN  \n",
       "\n",
       "[5 rows x 9724 columns]"
      ]
     },
     "execution_count": 16,
     "metadata": {},
     "output_type": "execute_result"
    }
   ],
   "source": [
    "dataset_recommend.head(5)"
   ]
  },
  {
   "cell_type": "code",
   "execution_count": 17,
   "metadata": {},
   "outputs": [
    {
     "data": {
      "text/plain": [
       "userId\n",
       "0    232\n",
       "1     29\n",
       "2     39\n",
       "3    216\n",
       "4     44\n",
       "dtype: int64"
      ]
     },
     "execution_count": 17,
     "metadata": {},
     "output_type": "execute_result"
    }
   ],
   "source": [
    "#How many movies each of the 5 first users have rated\n",
    "nbr_ratings_five_users = dataset_recommend.iloc[:5, :].count(axis=1)\n",
    "nbr_ratings_five_users"
   ]
  },
  {
   "cell_type": "code",
   "execution_count": 18,
   "metadata": {},
   "outputs": [
    {
     "name": "stdout",
     "output_type": "stream",
     "text": [
      "The total number of ratings is: 100836\n",
      "The total number of values is: 5931640\n",
      "The percentage of available ratings is: 1.7%\n"
     ]
    }
   ],
   "source": [
    "#the percentage of available ratings in the whole dataset\n",
    "total_nbr_ratings = dataset_recommend.count(axis=1).sum()\n",
    "\n",
    "#percentage of available ratings in the whole dataset\n",
    "total_values = dataset_recommend.size\n",
    "ratio_ratings = total_nbr_ratings/total_values\n",
    "        \n",
    "print(f'The total number of ratings is: {total_nbr_ratings}')\n",
    "print(f'The total number of values is: {total_values}')\n",
    "print(f'The percentage of available ratings is: {ratio_ratings * 100:.1f}%')\n"
   ]
  },
  {
   "cell_type": "markdown",
   "metadata": {},
   "source": [
    "There is only 1.7% of ratings that are available, which is normal as each hasn't rated all the movies. To see the dataset in a matrix form with all the missing ratings, use the `Dataframe.pivot()` function, with the `userId` as index, the `movieId` as columns, and the ratings for the `values` :"
   ]
  },
  {
   "cell_type": "code",
   "execution_count": 19,
   "metadata": {},
   "outputs": [],
   "source": [
    "#TOFILL\n",
    "## Done"
   ]
  },
  {
   "cell_type": "markdown",
   "metadata": {},
   "source": [
    "Print all the ratings of user 1. To do so, use the *movies.csv* file and your `movie_ids_map` dictionnary to find the movie title from the new movie indexes, and print the real movie title associated to each rating of user 1 :"
   ]
  },
  {
   "cell_type": "code",
   "execution_count": 20,
   "metadata": {},
   "outputs": [
    {
     "data": {
      "text/html": [
       "<div>\n",
       "<style scoped>\n",
       "    .dataframe tbody tr th:only-of-type {\n",
       "        vertical-align: middle;\n",
       "    }\n",
       "\n",
       "    .dataframe tbody tr th {\n",
       "        vertical-align: top;\n",
       "    }\n",
       "\n",
       "    .dataframe thead th {\n",
       "        text-align: right;\n",
       "    }\n",
       "</style>\n",
       "<table border=\"1\" class=\"dataframe\">\n",
       "  <thead>\n",
       "    <tr style=\"text-align: right;\">\n",
       "      <th></th>\n",
       "      <th>movieId</th>\n",
       "      <th>title</th>\n",
       "      <th>genres</th>\n",
       "    </tr>\n",
       "  </thead>\n",
       "  <tbody>\n",
       "    <tr>\n",
       "      <th>0</th>\n",
       "      <td>1</td>\n",
       "      <td>Toy Story (1995)</td>\n",
       "      <td>Adventure|Animation|Children|Comedy|Fantasy</td>\n",
       "    </tr>\n",
       "    <tr>\n",
       "      <th>1</th>\n",
       "      <td>2</td>\n",
       "      <td>Jumanji (1995)</td>\n",
       "      <td>Adventure|Children|Fantasy</td>\n",
       "    </tr>\n",
       "  </tbody>\n",
       "</table>\n",
       "</div>"
      ],
      "text/plain": [
       "   movieId             title                                       genres\n",
       "0        1  Toy Story (1995)  Adventure|Animation|Children|Comedy|Fantasy\n",
       "1        2    Jumanji (1995)                   Adventure|Children|Fantasy"
      ]
     },
     "execution_count": 20,
     "metadata": {},
     "output_type": "execute_result"
    }
   ],
   "source": [
    "df_movies = pd.read_csv('../data/ml-latest-small/movies.csv')\n",
    "df_movies.head(2)\n"
   ]
  },
  {
   "cell_type": "code",
   "execution_count": 21,
   "metadata": {},
   "outputs": [
    {
     "data": {
      "text/html": [
       "<div>\n",
       "<style scoped>\n",
       "    .dataframe tbody tr th:only-of-type {\n",
       "        vertical-align: middle;\n",
       "    }\n",
       "\n",
       "    .dataframe tbody tr th {\n",
       "        vertical-align: top;\n",
       "    }\n",
       "\n",
       "    .dataframe thead th {\n",
       "        text-align: right;\n",
       "    }\n",
       "</style>\n",
       "<table border=\"1\" class=\"dataframe\">\n",
       "  <thead>\n",
       "    <tr style=\"text-align: right;\">\n",
       "      <th></th>\n",
       "      <th>movieId</th>\n",
       "      <th>title</th>\n",
       "      <th>genres</th>\n",
       "      <th>userId</th>\n",
       "      <th>rating</th>\n",
       "      <th>timestamp</th>\n",
       "    </tr>\n",
       "  </thead>\n",
       "  <tbody>\n",
       "    <tr>\n",
       "      <th>0</th>\n",
       "      <td>1</td>\n",
       "      <td>Toy Story (1995)</td>\n",
       "      <td>Adventure|Animation|Children|Comedy|Fantasy</td>\n",
       "      <td>150</td>\n",
       "      <td>3.0</td>\n",
       "      <td>855947242</td>\n",
       "    </tr>\n",
       "    <tr>\n",
       "      <th>1</th>\n",
       "      <td>1</td>\n",
       "      <td>Toy Story (1995)</td>\n",
       "      <td>Adventure|Animation|Children|Comedy|Fantasy</td>\n",
       "      <td>43</td>\n",
       "      <td>3.0</td>\n",
       "      <td>869251910</td>\n",
       "    </tr>\n",
       "  </tbody>\n",
       "</table>\n",
       "</div>"
      ],
      "text/plain": [
       "   movieId             title                                       genres  \\\n",
       "0        1  Toy Story (1995)  Adventure|Animation|Children|Comedy|Fantasy   \n",
       "1        1  Toy Story (1995)  Adventure|Animation|Children|Comedy|Fantasy   \n",
       "\n",
       "   userId  rating  timestamp  \n",
       "0     150     3.0  855947242  \n",
       "1      43     3.0  869251910  "
      ]
     },
     "execution_count": 21,
     "metadata": {},
     "output_type": "execute_result"
    }
   ],
   "source": [
    "df_merged = pd.merge(df_movies, dataset, on='movieId')\n",
    "df_merged.head(2)"
   ]
  },
  {
   "cell_type": "code",
   "execution_count": 22,
   "metadata": {},
   "outputs": [
    {
     "data": {
      "text/html": [
       "<div>\n",
       "<style scoped>\n",
       "    .dataframe tbody tr th:only-of-type {\n",
       "        vertical-align: middle;\n",
       "    }\n",
       "\n",
       "    .dataframe tbody tr th {\n",
       "        vertical-align: top;\n",
       "    }\n",
       "\n",
       "    .dataframe thead th {\n",
       "        text-align: right;\n",
       "    }\n",
       "</style>\n",
       "<table border=\"1\" class=\"dataframe\">\n",
       "  <thead>\n",
       "    <tr style=\"text-align: right;\">\n",
       "      <th>title</th>\n",
       "      <th>'Til There Was You (1997)</th>\n",
       "      <th>'burbs, The (1989)</th>\n",
       "      <th>'night Mother (1986)</th>\n",
       "      <th>*batteries not included (1987)</th>\n",
       "      <th>...All the Marbles (1981)</th>\n",
       "      <th>...And Justice for All (1979)</th>\n",
       "      <th>1-900 (06) (1994)</th>\n",
       "      <th>10 (1979)</th>\n",
       "      <th>10 Things I Hate About You (1999)</th>\n",
       "      <th>100 Girls (2000)</th>\n",
       "      <th>...</th>\n",
       "      <th>Zero de conduite (Zero for Conduct) (Zéro de conduite: Jeunes diables au collège) (1933)</th>\n",
       "      <th>Zeus and Roxanne (1997)</th>\n",
       "      <th>Zombie (a.k.a. Zombie 2: The Dead Are Among Us) (Zombi 2) (1979)</th>\n",
       "      <th>Zone 39 (1997)</th>\n",
       "      <th>Zoolander (2001)</th>\n",
       "      <th>Zulu (1964)</th>\n",
       "      <th>eXistenZ (1999)</th>\n",
       "      <th>xXx (2002)</th>\n",
       "      <th>¡Three Amigos! (1986)</th>\n",
       "      <th>À nous la liberté (Freedom for Us) (1931)</th>\n",
       "    </tr>\n",
       "    <tr>\n",
       "      <th>userId</th>\n",
       "      <th></th>\n",
       "      <th></th>\n",
       "      <th></th>\n",
       "      <th></th>\n",
       "      <th></th>\n",
       "      <th></th>\n",
       "      <th></th>\n",
       "      <th></th>\n",
       "      <th></th>\n",
       "      <th></th>\n",
       "      <th></th>\n",
       "      <th></th>\n",
       "      <th></th>\n",
       "      <th></th>\n",
       "      <th></th>\n",
       "      <th></th>\n",
       "      <th></th>\n",
       "      <th></th>\n",
       "      <th></th>\n",
       "      <th></th>\n",
       "      <th></th>\n",
       "    </tr>\n",
       "  </thead>\n",
       "  <tbody>\n",
       "    <tr>\n",
       "      <th>0</th>\n",
       "      <td>NaN</td>\n",
       "      <td>NaN</td>\n",
       "      <td>NaN</td>\n",
       "      <td>NaN</td>\n",
       "      <td>NaN</td>\n",
       "      <td>NaN</td>\n",
       "      <td>NaN</td>\n",
       "      <td>NaN</td>\n",
       "      <td>NaN</td>\n",
       "      <td>NaN</td>\n",
       "      <td>...</td>\n",
       "      <td>NaN</td>\n",
       "      <td>NaN</td>\n",
       "      <td>NaN</td>\n",
       "      <td>NaN</td>\n",
       "      <td>NaN</td>\n",
       "      <td>NaN</td>\n",
       "      <td>NaN</td>\n",
       "      <td>NaN</td>\n",
       "      <td>NaN</td>\n",
       "      <td>NaN</td>\n",
       "    </tr>\n",
       "    <tr>\n",
       "      <th>1</th>\n",
       "      <td>NaN</td>\n",
       "      <td>NaN</td>\n",
       "      <td>NaN</td>\n",
       "      <td>NaN</td>\n",
       "      <td>NaN</td>\n",
       "      <td>NaN</td>\n",
       "      <td>NaN</td>\n",
       "      <td>NaN</td>\n",
       "      <td>NaN</td>\n",
       "      <td>NaN</td>\n",
       "      <td>...</td>\n",
       "      <td>NaN</td>\n",
       "      <td>NaN</td>\n",
       "      <td>NaN</td>\n",
       "      <td>NaN</td>\n",
       "      <td>NaN</td>\n",
       "      <td>NaN</td>\n",
       "      <td>NaN</td>\n",
       "      <td>NaN</td>\n",
       "      <td>NaN</td>\n",
       "      <td>NaN</td>\n",
       "    </tr>\n",
       "    <tr>\n",
       "      <th>2</th>\n",
       "      <td>NaN</td>\n",
       "      <td>NaN</td>\n",
       "      <td>NaN</td>\n",
       "      <td>NaN</td>\n",
       "      <td>NaN</td>\n",
       "      <td>NaN</td>\n",
       "      <td>NaN</td>\n",
       "      <td>NaN</td>\n",
       "      <td>NaN</td>\n",
       "      <td>NaN</td>\n",
       "      <td>...</td>\n",
       "      <td>NaN</td>\n",
       "      <td>NaN</td>\n",
       "      <td>NaN</td>\n",
       "      <td>NaN</td>\n",
       "      <td>NaN</td>\n",
       "      <td>NaN</td>\n",
       "      <td>NaN</td>\n",
       "      <td>NaN</td>\n",
       "      <td>NaN</td>\n",
       "      <td>NaN</td>\n",
       "    </tr>\n",
       "    <tr>\n",
       "      <th>3</th>\n",
       "      <td>NaN</td>\n",
       "      <td>NaN</td>\n",
       "      <td>NaN</td>\n",
       "      <td>NaN</td>\n",
       "      <td>NaN</td>\n",
       "      <td>NaN</td>\n",
       "      <td>NaN</td>\n",
       "      <td>NaN</td>\n",
       "      <td>NaN</td>\n",
       "      <td>NaN</td>\n",
       "      <td>...</td>\n",
       "      <td>NaN</td>\n",
       "      <td>NaN</td>\n",
       "      <td>NaN</td>\n",
       "      <td>NaN</td>\n",
       "      <td>NaN</td>\n",
       "      <td>NaN</td>\n",
       "      <td>NaN</td>\n",
       "      <td>NaN</td>\n",
       "      <td>NaN</td>\n",
       "      <td>NaN</td>\n",
       "    </tr>\n",
       "    <tr>\n",
       "      <th>4</th>\n",
       "      <td>NaN</td>\n",
       "      <td>NaN</td>\n",
       "      <td>NaN</td>\n",
       "      <td>NaN</td>\n",
       "      <td>NaN</td>\n",
       "      <td>NaN</td>\n",
       "      <td>NaN</td>\n",
       "      <td>NaN</td>\n",
       "      <td>NaN</td>\n",
       "      <td>NaN</td>\n",
       "      <td>...</td>\n",
       "      <td>NaN</td>\n",
       "      <td>NaN</td>\n",
       "      <td>NaN</td>\n",
       "      <td>NaN</td>\n",
       "      <td>NaN</td>\n",
       "      <td>NaN</td>\n",
       "      <td>NaN</td>\n",
       "      <td>NaN</td>\n",
       "      <td>NaN</td>\n",
       "      <td>NaN</td>\n",
       "    </tr>\n",
       "    <tr>\n",
       "      <th>...</th>\n",
       "      <td>...</td>\n",
       "      <td>...</td>\n",
       "      <td>...</td>\n",
       "      <td>...</td>\n",
       "      <td>...</td>\n",
       "      <td>...</td>\n",
       "      <td>...</td>\n",
       "      <td>...</td>\n",
       "      <td>...</td>\n",
       "      <td>...</td>\n",
       "      <td>...</td>\n",
       "      <td>...</td>\n",
       "      <td>...</td>\n",
       "      <td>...</td>\n",
       "      <td>...</td>\n",
       "      <td>...</td>\n",
       "      <td>...</td>\n",
       "      <td>...</td>\n",
       "      <td>...</td>\n",
       "      <td>...</td>\n",
       "      <td>...</td>\n",
       "    </tr>\n",
       "    <tr>\n",
       "      <th>605</th>\n",
       "      <td>4.0</td>\n",
       "      <td>NaN</td>\n",
       "      <td>NaN</td>\n",
       "      <td>NaN</td>\n",
       "      <td>NaN</td>\n",
       "      <td>NaN</td>\n",
       "      <td>2.5</td>\n",
       "      <td>NaN</td>\n",
       "      <td>NaN</td>\n",
       "      <td>NaN</td>\n",
       "      <td>...</td>\n",
       "      <td>NaN</td>\n",
       "      <td>NaN</td>\n",
       "      <td>NaN</td>\n",
       "      <td>NaN</td>\n",
       "      <td>NaN</td>\n",
       "      <td>NaN</td>\n",
       "      <td>3.5</td>\n",
       "      <td>NaN</td>\n",
       "      <td>NaN</td>\n",
       "      <td>NaN</td>\n",
       "    </tr>\n",
       "    <tr>\n",
       "      <th>606</th>\n",
       "      <td>NaN</td>\n",
       "      <td>NaN</td>\n",
       "      <td>NaN</td>\n",
       "      <td>NaN</td>\n",
       "      <td>NaN</td>\n",
       "      <td>NaN</td>\n",
       "      <td>NaN</td>\n",
       "      <td>NaN</td>\n",
       "      <td>NaN</td>\n",
       "      <td>NaN</td>\n",
       "      <td>...</td>\n",
       "      <td>NaN</td>\n",
       "      <td>NaN</td>\n",
       "      <td>NaN</td>\n",
       "      <td>NaN</td>\n",
       "      <td>NaN</td>\n",
       "      <td>NaN</td>\n",
       "      <td>NaN</td>\n",
       "      <td>NaN</td>\n",
       "      <td>NaN</td>\n",
       "      <td>NaN</td>\n",
       "    </tr>\n",
       "    <tr>\n",
       "      <th>607</th>\n",
       "      <td>4.0</td>\n",
       "      <td>3.5</td>\n",
       "      <td>NaN</td>\n",
       "      <td>NaN</td>\n",
       "      <td>NaN</td>\n",
       "      <td>NaN</td>\n",
       "      <td>NaN</td>\n",
       "      <td>NaN</td>\n",
       "      <td>NaN</td>\n",
       "      <td>NaN</td>\n",
       "      <td>...</td>\n",
       "      <td>NaN</td>\n",
       "      <td>NaN</td>\n",
       "      <td>NaN</td>\n",
       "      <td>NaN</td>\n",
       "      <td>NaN</td>\n",
       "      <td>NaN</td>\n",
       "      <td>NaN</td>\n",
       "      <td>NaN</td>\n",
       "      <td>NaN</td>\n",
       "      <td>NaN</td>\n",
       "    </tr>\n",
       "    <tr>\n",
       "      <th>608</th>\n",
       "      <td>NaN</td>\n",
       "      <td>NaN</td>\n",
       "      <td>NaN</td>\n",
       "      <td>NaN</td>\n",
       "      <td>NaN</td>\n",
       "      <td>NaN</td>\n",
       "      <td>NaN</td>\n",
       "      <td>NaN</td>\n",
       "      <td>NaN</td>\n",
       "      <td>NaN</td>\n",
       "      <td>...</td>\n",
       "      <td>NaN</td>\n",
       "      <td>3.0</td>\n",
       "      <td>NaN</td>\n",
       "      <td>NaN</td>\n",
       "      <td>NaN</td>\n",
       "      <td>NaN</td>\n",
       "      <td>NaN</td>\n",
       "      <td>NaN</td>\n",
       "      <td>NaN</td>\n",
       "      <td>NaN</td>\n",
       "    </tr>\n",
       "    <tr>\n",
       "      <th>609</th>\n",
       "      <td>4.5</td>\n",
       "      <td>4.5</td>\n",
       "      <td>NaN</td>\n",
       "      <td>NaN</td>\n",
       "      <td>NaN</td>\n",
       "      <td>3.0</td>\n",
       "      <td>NaN</td>\n",
       "      <td>NaN</td>\n",
       "      <td>NaN</td>\n",
       "      <td>NaN</td>\n",
       "      <td>...</td>\n",
       "      <td>NaN</td>\n",
       "      <td>NaN</td>\n",
       "      <td>NaN</td>\n",
       "      <td>2.5</td>\n",
       "      <td>NaN</td>\n",
       "      <td>4.0</td>\n",
       "      <td>NaN</td>\n",
       "      <td>NaN</td>\n",
       "      <td>3.0</td>\n",
       "      <td>NaN</td>\n",
       "    </tr>\n",
       "  </tbody>\n",
       "</table>\n",
       "<p>610 rows × 5401 columns</p>\n",
       "</div>"
      ],
      "text/plain": [
       "title   'Til There Was You (1997)  'burbs, The (1989)  'night Mother (1986)  \\\n",
       "userId                                                                        \n",
       "0                             NaN                 NaN                   NaN   \n",
       "1                             NaN                 NaN                   NaN   \n",
       "2                             NaN                 NaN                   NaN   \n",
       "3                             NaN                 NaN                   NaN   \n",
       "4                             NaN                 NaN                   NaN   \n",
       "...                           ...                 ...                   ...   \n",
       "605                           4.0                 NaN                   NaN   \n",
       "606                           NaN                 NaN                   NaN   \n",
       "607                           4.0                 3.5                   NaN   \n",
       "608                           NaN                 NaN                   NaN   \n",
       "609                           4.5                 4.5                   NaN   \n",
       "\n",
       "title   *batteries not included (1987)  ...All the Marbles (1981)  \\\n",
       "userId                                                              \n",
       "0                                  NaN                        NaN   \n",
       "1                                  NaN                        NaN   \n",
       "2                                  NaN                        NaN   \n",
       "3                                  NaN                        NaN   \n",
       "4                                  NaN                        NaN   \n",
       "...                                ...                        ...   \n",
       "605                                NaN                        NaN   \n",
       "606                                NaN                        NaN   \n",
       "607                                NaN                        NaN   \n",
       "608                                NaN                        NaN   \n",
       "609                                NaN                        NaN   \n",
       "\n",
       "title   ...And Justice for All (1979)  1-900 (06) (1994)  10 (1979)  \\\n",
       "userId                                                                \n",
       "0                                 NaN                NaN        NaN   \n",
       "1                                 NaN                NaN        NaN   \n",
       "2                                 NaN                NaN        NaN   \n",
       "3                                 NaN                NaN        NaN   \n",
       "4                                 NaN                NaN        NaN   \n",
       "...                               ...                ...        ...   \n",
       "605                               NaN                2.5        NaN   \n",
       "606                               NaN                NaN        NaN   \n",
       "607                               NaN                NaN        NaN   \n",
       "608                               NaN                NaN        NaN   \n",
       "609                               3.0                NaN        NaN   \n",
       "\n",
       "title   10 Things I Hate About You (1999)  100 Girls (2000)  ...  \\\n",
       "userId                                                       ...   \n",
       "0                                     NaN               NaN  ...   \n",
       "1                                     NaN               NaN  ...   \n",
       "2                                     NaN               NaN  ...   \n",
       "3                                     NaN               NaN  ...   \n",
       "4                                     NaN               NaN  ...   \n",
       "...                                   ...               ...  ...   \n",
       "605                                   NaN               NaN  ...   \n",
       "606                                   NaN               NaN  ...   \n",
       "607                                   NaN               NaN  ...   \n",
       "608                                   NaN               NaN  ...   \n",
       "609                                   NaN               NaN  ...   \n",
       "\n",
       "title   Zero de conduite (Zero for Conduct) (Zéro de conduite: Jeunes diables au collège) (1933)  \\\n",
       "userId                                                                                             \n",
       "0                                                     NaN                                          \n",
       "1                                                     NaN                                          \n",
       "2                                                     NaN                                          \n",
       "3                                                     NaN                                          \n",
       "4                                                     NaN                                          \n",
       "...                                                   ...                                          \n",
       "605                                                   NaN                                          \n",
       "606                                                   NaN                                          \n",
       "607                                                   NaN                                          \n",
       "608                                                   NaN                                          \n",
       "609                                                   NaN                                          \n",
       "\n",
       "title   Zeus and Roxanne (1997)  \\\n",
       "userId                            \n",
       "0                           NaN   \n",
       "1                           NaN   \n",
       "2                           NaN   \n",
       "3                           NaN   \n",
       "4                           NaN   \n",
       "...                         ...   \n",
       "605                         NaN   \n",
       "606                         NaN   \n",
       "607                         NaN   \n",
       "608                         3.0   \n",
       "609                         NaN   \n",
       "\n",
       "title   Zombie (a.k.a. Zombie 2: The Dead Are Among Us) (Zombi 2) (1979)  \\\n",
       "userId                                                                     \n",
       "0                                                     NaN                  \n",
       "1                                                     NaN                  \n",
       "2                                                     NaN                  \n",
       "3                                                     NaN                  \n",
       "4                                                     NaN                  \n",
       "...                                                   ...                  \n",
       "605                                                   NaN                  \n",
       "606                                                   NaN                  \n",
       "607                                                   NaN                  \n",
       "608                                                   NaN                  \n",
       "609                                                   NaN                  \n",
       "\n",
       "title   Zone 39 (1997)  Zoolander (2001)  Zulu (1964)  eXistenZ (1999)  \\\n",
       "userId                                                                   \n",
       "0                  NaN               NaN          NaN              NaN   \n",
       "1                  NaN               NaN          NaN              NaN   \n",
       "2                  NaN               NaN          NaN              NaN   \n",
       "3                  NaN               NaN          NaN              NaN   \n",
       "4                  NaN               NaN          NaN              NaN   \n",
       "...                ...               ...          ...              ...   \n",
       "605                NaN               NaN          NaN              3.5   \n",
       "606                NaN               NaN          NaN              NaN   \n",
       "607                NaN               NaN          NaN              NaN   \n",
       "608                NaN               NaN          NaN              NaN   \n",
       "609                2.5               NaN          4.0              NaN   \n",
       "\n",
       "title   xXx (2002)  ¡Three Amigos! (1986)  \\\n",
       "userId                                      \n",
       "0              NaN                    NaN   \n",
       "1              NaN                    NaN   \n",
       "2              NaN                    NaN   \n",
       "3              NaN                    NaN   \n",
       "4              NaN                    NaN   \n",
       "...            ...                    ...   \n",
       "605            NaN                    NaN   \n",
       "606            NaN                    NaN   \n",
       "607            NaN                    NaN   \n",
       "608            NaN                    NaN   \n",
       "609            NaN                    3.0   \n",
       "\n",
       "title   À nous la liberté (Freedom for Us) (1931)  \n",
       "userId                                             \n",
       "0                                             NaN  \n",
       "1                                             NaN  \n",
       "2                                             NaN  \n",
       "3                                             NaN  \n",
       "4                                             NaN  \n",
       "...                                           ...  \n",
       "605                                           NaN  \n",
       "606                                           NaN  \n",
       "607                                           NaN  \n",
       "608                                           NaN  \n",
       "609                                           NaN  \n",
       "\n",
       "[610 rows x 5401 columns]"
      ]
     },
     "execution_count": 22,
     "metadata": {},
     "output_type": "execute_result"
    }
   ],
   "source": [
    "dataset_recommend2 = df_merged.pivot_table(index='userId', columns='title', values='rating')\n",
    "dataset_recommend2"
   ]
  },
  {
   "cell_type": "code",
   "execution_count": 23,
   "metadata": {},
   "outputs": [
    {
     "data": {
      "text/plain": [
       "title\n",
       "Cure, The (1995)                                             4.0\n",
       "Eat Drink Man Woman (Yin shi nan nu) (1994)                  3.0\n",
       "Ed Wood (1994)                                               3.5\n",
       "Exit to Eden (1994)                                          4.0\n",
       "Exotica (1994)                                               4.5\n",
       "Far From Home: The Adventures of Yellow Dog (1995)           4.5\n",
       "Farinelli: il castrato (1994)                                4.0\n",
       "Fluke (1995)                                                 3.0\n",
       "Forget Paris (1995)                                          4.0\n",
       "Four Rooms (1995)                                            4.0\n",
       "French Kiss (1995)                                           4.0\n",
       "Goofy Movie, A (1995)                                        5.0\n",
       "Gordy (1995)                                                 3.0\n",
       "Heavenly Creatures (1994)                                    4.0\n",
       "Heavyweights (Heavy Weights) (1995)                          2.5\n",
       "Hideaway (1995)                                              4.5\n",
       "Hoop Dreams (1994)                                           5.0\n",
       "Houseguest (1994)                                            5.0\n",
       "Hunted, The (1995)                                           3.5\n",
       "I.Q. (1994)                                                  5.0\n",
       "Immortal Beloved (1994)                                      3.5\n",
       "Interview with the Vampire: The Vampire Chronicles (1994)    3.0\n",
       "Jefferson in Paris (1995)                                    4.0\n",
       "Jerky Boys, The (1995)                                       2.0\n",
       "Junior (1994)                                                3.5\n",
       "Just Cause (1995)                                            5.0\n",
       "Kid in King Arthur's Court, A (1995)                         5.0\n",
       "Name: 1, dtype: float64"
      ]
     },
     "execution_count": 23,
     "metadata": {},
     "output_type": "execute_result"
    }
   ],
   "source": [
    "#print the real movie title associated to each rating of user 1\n",
    "ratings_user_1 = dataset_recommend2.iloc[1,:].dropna()\n",
    "ratings_user_1"
   ]
  },
  {
   "cell_type": "markdown",
   "metadata": {},
   "source": [
    "## Matrix Factorization with Keras"
   ]
  },
  {
   "cell_type": "markdown",
   "metadata": {},
   "source": [
    "Keras is a python library made for easily designing complex models such as deep learning models, in this module we are going to use just a few features from it to implement our simple matrix factorization model, as it makes a good introduction to the library before the next module about deep learning where you will also be using Keras.\n",
    "\n",
    "The following function `get_mf_model` implements the model described in equation (2) in Koren's paper (without the $+\\lambda(\\ldots)$ part for the moment). So it basically tries to find the $p_u \\in \\mathbb{R}^k$ and $q_i \\in \\mathbb{R}^k$ vectors that minimizes the squared loss between their dot product $p_u^Tq_i$, and the observed ratings $r_{ui}$, from random initialization of $p_u$ and $q_i$. In machine learning terms, $p_u$ and $q_i$ are called the *embeddings* of the user $u$ and of the movie $i$ respectively. Their size $k$ is an hyper-parameter of the model, which is called the *rank* of the factorization.\n",
    "\n",
    "To do so, it uses the functional API from Keras (the other API proposed is the sequential one, but is not adapted for this model), you can read about it here : https://keras.io/guides/functional_api/ .\n",
    "\n",
    "Keras, unlike Numpy, uses a different progamming paradigm. Numpy uses an *imperative* programming style (like python in general), meaning that when you execute `x.dot(y)`, the dot product is actually calculated. Keras however, uses a *declarative* (also called *symbolic*) programming style, meaning that when you write `Dot()([x, y])`, you tell Keras than when you will call the *fit* function of your model in the future, you will want to do a dot product between the future values that *x* and *y* will have. And this is what Keras is about, it allows you to build your own model as a sequence of operations, describing each input and output, and then later fit it and predict with it.\n",
    "\n",
    "Let's not get in too many details, but retain that the `get_mf_model` function below is not actually executing the model, it creates it, and returns an object of the class `keras.models.Model` that has been instructed with your model operations, and this object can then be trained with the classic `fit` and `predict` functions. \n",
    "\n",
    "Read carefully the comments in the code of the function to understand the different steps in the model creation process:"
   ]
  },
  {
   "cell_type": "code",
   "execution_count": 24,
   "metadata": {},
   "outputs": [],
   "source": [
    "from keras.models import Model\n",
    "from keras.layers import Embedding, Input, Reshape\n",
    "from keras.layers import Dot\n",
    "\n",
    "def get_mf_model(nb_users, nb_movies, k):\n",
    "    \"\"\"\n",
    "    Build a simple matrix factorization model from\n",
    "    the number of user, the number of movies, and the size of the embeddings k.\n",
    "    \n",
    "    Input:\n",
    "        nb_users : int : The number of unique users\n",
    "        nb_movies : int : The number of unique movies\n",
    "        k : int : The size of the embeddings\n",
    "        \n",
    "    Output:\n",
    "        model : keras.models.Model : A keras model that implements matrix factorization\n",
    "        \n",
    "    \"\"\"\n",
    "    dim_embedddings = k\n",
    "    \n",
    "    #Inputs:\n",
    "    #First we describe the input of the model, that is the training data that we will give it as X\n",
    "    #In our case, the input are just the user index u and the movie index i.\n",
    "    #So we declare two inputs of size one:\n",
    "    u = Input(shape=(1,), dtype='int32', name = \"u__user_id\")\n",
    "    i = Input(shape=(1,), dtype='int32', name = 'i__movie_id')\n",
    "    \n",
    "    #Then let's declare our variable, the embeddings p and q.\n",
    "    #First with the users, we declare that we have nb_users embeddings, each of size dim_embeddings.\n",
    "    #An embedding object is indexed by calling it with the index parameter like a function,\n",
    "    #so we add a `(u)` at the end to tell keras we want it to be indexed \n",
    "    #by the user ids we will pass at training time as inputs.\n",
    "    p_u = Embedding(nb_users, dim_embedddings, name=\"p_u__user_embedding\")(u)\n",
    "    \n",
    "    #Unfortunatly, when indexing an embeddings it keeps [1,k] matrix shape instead\n",
    "    #of just a [k] vector, so we have to tell Keras that we just want a vector by\n",
    "    #redefining its shape:\n",
    "    p_u = Reshape((dim_embedddings,), name=\"p_u__user_embedding_reshaped\")(p_u)\n",
    "    \n",
    "    # Same thing for the movie embeddings:\n",
    "    q_i = Embedding(nb_movies, dim_embedddings, name=\"q_i__movie_embedding\")(i)\n",
    "    q_i = Reshape((dim_embedddings,), name=\"q_i__movie_embedding_reshaped\")(q_i)\n",
    "    \n",
    "    #Then the dot product between the two indexed embeddings, \n",
    "    #we'll understand the axes = 1 part later.\n",
    "    r_hat = Dot(axes = 1)([q_i, p_u])\n",
    "\n",
    "    #We define our model by giving its input and outputs, in our case\n",
    "    #the user and movie ids will be the inputs, and the output will be\n",
    "    #the estimated rating r_hat, that is the dot product of the \n",
    "    #corresponding embeddings.\n",
    "    model = Model(inputs=[u, i], outputs=r_hat)\n",
    "    \n",
    "    #Finally, we define the loss and metric to use, in our case the mean squared error,\n",
    "    #along with the optimization method, we'll understand what is 'adam' later also.\n",
    "    model.compile(loss='mse', optimizer='adam', metrics=[\"mse\"])\n",
    "\n",
    "    return model\n",
    "\n"
   ]
  },
  {
   "cell_type": "code",
   "execution_count": 25,
   "metadata": {},
   "outputs": [
    {
     "name": "stdout",
     "output_type": "stream",
     "text": [
      "WARNING:tensorflow:From c:\\Users\\eusou\\Anaconda3\\Lib\\site-packages\\keras\\src\\backend.py:1398: The name tf.executing_eagerly_outside_functions is deprecated. Please use tf.compat.v1.executing_eagerly_outside_functions instead.\n",
      "\n",
      "WARNING:tensorflow:From c:\\Users\\eusou\\Anaconda3\\Lib\\site-packages\\keras\\src\\optimizers\\__init__.py:309: The name tf.train.Optimizer is deprecated. Please use tf.compat.v1.train.Optimizer instead.\n",
      "\n"
     ]
    }
   ],
   "source": [
    "k = 30\n",
    "mf_model = get_mf_model(nb_users, nb_movies, k)"
   ]
  },
  {
   "cell_type": "markdown",
   "metadata": {},
   "source": [
    "Keras allows us to have a textual overview of the model we defined with the *summary()* function:"
   ]
  },
  {
   "cell_type": "code",
   "execution_count": 26,
   "metadata": {},
   "outputs": [
    {
     "name": "stdout",
     "output_type": "stream",
     "text": [
      "Model: \"model\"\n",
      "__________________________________________________________________________________________________\n",
      " Layer (type)                Output Shape                 Param #   Connected to                  \n",
      "==================================================================================================\n",
      " i__movie_id (InputLayer)    [(None, 1)]                  0         []                            \n",
      "                                                                                                  \n",
      " u__user_id (InputLayer)     [(None, 1)]                  0         []                            \n",
      "                                                                                                  \n",
      " q_i__movie_embedding (Embe  (None, 1, 30)                291720    ['i__movie_id[0][0]']         \n",
      " dding)                                                                                           \n",
      "                                                                                                  \n",
      " p_u__user_embedding (Embed  (None, 1, 30)                18300     ['u__user_id[0][0]']          \n",
      " ding)                                                                                            \n",
      "                                                                                                  \n",
      " q_i__movie_embedding_resha  (None, 30)                   0         ['q_i__movie_embedding[0][0]']\n",
      " ped (Reshape)                                                                                    \n",
      "                                                                                                  \n",
      " p_u__user_embedding_reshap  (None, 30)                   0         ['p_u__user_embedding[0][0]'] \n",
      " ed (Reshape)                                                                                     \n",
      "                                                                                                  \n",
      " dot (Dot)                   (None, 1)                    0         ['q_i__movie_embedding_reshape\n",
      "                                                                    d[0][0]',                     \n",
      "                                                                     'p_u__user_embedding_reshaped\n",
      "                                                                    [0][0]']                      \n",
      "                                                                                                  \n",
      "==================================================================================================\n",
      "Total params: 310020 (1.18 MB)\n",
      "Trainable params: 310020 (1.18 MB)\n",
      "Non-trainable params: 0 (0.00 Byte)\n",
      "__________________________________________________________________________________________________\n"
     ]
    }
   ],
   "source": [
    "mf_model.summary()"
   ]
  },
  {
   "cell_type": "markdown",
   "metadata": {},
   "source": [
    "Each of the keras objects we defined in our model is called a *layer*, and we find them in order in the first column. The *Param #* column gives the number of trainable parameters of the layer, in our case these are just the embeddings, and they should be equal to $nb\\_users \\times k$ and $nb\\_movies \\times k$. The *Connected to* column tells for each layer which layers are inputs for this layer (you can safely ignore the `[0][0]` for this module).\n",
    "\n",
    "Finally the *Output Shape* column gives us the shape of the layer, each layer being a *tensor*. A tensor is the generalization of matrices to more than two dimensions. So a matrix is a 2D-tensor and a vector is a 1D-tensor, and each layer can be a matrix, a vector, or a higher-order tensor. The output shape we see is indeed the expected one at each layer, except there is this `None` in first dimension, why is that ?\n",
    "\n",
    "To understand it, we have to get into how Keras is actually minimizing the mean squared loss of our model. In general, when in comes to minimizing error functions on big datasets, a generic method is to use Stocastic Gradient Descent (SGD), briefly described in page 4 of Koren's article. \n",
    "\n",
    "Read about gradient descent, SGD and its variant mini-batch SGD in Chapter 4 of *Hands on ML ...* (pages 111-120):\n",
    "https://drive.google.com/file/d/1t0rc3x5YQBgLXVLET6BzR4jn5vzMI_m0/view?usp=sharing\n",
    "\n",
    "This is what Keras does when it fits the model, it initializes the $q_i$ and $p_u$ embedding vectors randomly, and then perform mini-batch SGD to find the minimum mean squared error on the training set. Since mini-batching means considering multiple training samples at the same time, Keras keeps the first dimension of each layer to stack the samples of each batch, this is why `None` is written, the actual batch_size being set at training time when calling the `fit` function. This is also why we had to set `axes=1` when calling the `Dot` layer in the `get_mf_model` function, because the first dimension (axe 0) of each layer is kept for the batches. And about the `optimizer='adam'`, it is just a variation of mini-batch SGD that is faster, we'll get into more details about SGD variations in the optional parts of this notebook."
   ]
  },
  {
   "cell_type": "markdown",
   "metadata": {},
   "source": [
    "Let's finally train our matrix factorization model on our movieLens data. The `epochs` parameter controls the number of iterations of the SGD algorithm, that is the number of times it is going to pass on each training rating and update the embeddings accordingly. Let's keep it at 20 for the moment:"
   ]
  },
  {
   "cell_type": "code",
   "execution_count": 27,
   "metadata": {
    "scrolled": true
   },
   "outputs": [
    {
     "name": "stdout",
     "output_type": "stream",
     "text": [
      "Epoch 1/20\n"
     ]
    },
    {
     "name": "stdout",
     "output_type": "stream",
     "text": [
      "WARNING:tensorflow:From c:\\Users\\eusou\\Anaconda3\\Lib\\site-packages\\keras\\src\\utils\\tf_utils.py:492: The name tf.ragged.RaggedTensorValue is deprecated. Please use tf.compat.v1.ragged.RaggedTensorValue instead.\n",
      "\n",
      "WARNING:tensorflow:From c:\\Users\\eusou\\Anaconda3\\Lib\\site-packages\\keras\\src\\engine\\base_layer_utils.py:384: The name tf.executing_eagerly_outside_functions is deprecated. Please use tf.compat.v1.executing_eagerly_outside_functions instead.\n",
      "\n",
      "178/178 [==============================] - 1s 2ms/step - loss: 13.3186 - mse: 13.3186\n",
      "Epoch 2/20\n",
      "178/178 [==============================] - 0s 2ms/step - loss: 11.0633 - mse: 11.0633\n",
      "Epoch 3/20\n",
      "178/178 [==============================] - 1s 5ms/step - loss: 4.9378 - mse: 4.9378\n",
      "Epoch 4/20\n",
      "178/178 [==============================] - 1s 4ms/step - loss: 2.4275 - mse: 2.4275\n",
      "Epoch 5/20\n",
      "178/178 [==============================] - 1s 6ms/step - loss: 1.6898 - mse: 1.6898\n",
      "Epoch 6/20\n",
      "178/178 [==============================] - 1s 4ms/step - loss: 1.3348 - mse: 1.3348\n",
      "Epoch 7/20\n",
      "178/178 [==============================] - 0s 2ms/step - loss: 1.1286 - mse: 1.1286\n",
      "Epoch 8/20\n",
      "178/178 [==============================] - 1s 3ms/step - loss: 0.9956 - mse: 0.9956\n",
      "Epoch 9/20\n",
      "178/178 [==============================] - 1s 5ms/step - loss: 0.9041 - mse: 0.9041\n",
      "Epoch 10/20\n",
      "178/178 [==============================] - 1s 5ms/step - loss: 0.8378 - mse: 0.8378\n",
      "Epoch 11/20\n",
      "178/178 [==============================] - 1s 4ms/step - loss: 0.7876 - mse: 0.7876\n",
      "Epoch 12/20\n",
      "178/178 [==============================] - 1s 3ms/step - loss: 0.7491 - mse: 0.7491\n",
      "Epoch 13/20\n",
      "178/178 [==============================] - 1s 5ms/step - loss: 0.7188 - mse: 0.7188\n",
      "Epoch 14/20\n",
      "178/178 [==============================] - 1s 5ms/step - loss: 0.6941 - mse: 0.6941\n",
      "Epoch 15/20\n",
      "178/178 [==============================] - 1s 5ms/step - loss: 0.6737 - mse: 0.6737\n",
      "Epoch 16/20\n",
      "178/178 [==============================] - 1s 6ms/step - loss: 0.6566 - mse: 0.6566\n",
      "Epoch 17/20\n",
      "178/178 [==============================] - 1s 6ms/step - loss: 0.6415 - mse: 0.6415\n",
      "Epoch 18/20\n",
      "178/178 [==============================] - 1s 6ms/step - loss: 0.6282 - mse: 0.6282\n",
      "Epoch 19/20\n",
      "178/178 [==============================] - 1s 5ms/step - loss: 0.6162 - mse: 0.6162\n",
      "Epoch 20/20\n",
      "178/178 [==============================] - 1s 6ms/step - loss: 0.6049 - mse: 0.6049\n"
     ]
    }
   ],
   "source": [
    "history = mf_model.fit(X_train, y_train, epochs=20, batch_size=512)"
   ]
  },
  {
   "cell_type": "markdown",
   "metadata": {},
   "source": [
    "And we can now try to predict the test ratings, and report our root mean squared error like in other regression problems:"
   ]
  },
  {
   "cell_type": "code",
   "execution_count": 28,
   "metadata": {},
   "outputs": [
    {
     "name": "stdout",
     "output_type": "stream",
     "text": [
      "316/316 [==============================] - 0s 1ms/step\n",
      " Test RMSE : 1.0727224018209316 \n"
     ]
    }
   ],
   "source": [
    "from sklearn.metrics import mean_squared_error\n",
    "from math import sqrt\n",
    "\n",
    "y_pred = mf_model.predict(X_test)\n",
    "\n",
    "test_rmse = sqrt(mean_squared_error(y_test, y_pred))\n",
    "\n",
    "print(\" Test RMSE : %s \" % test_rmse)"
   ]
  },
  {
   "cell_type": "markdown",
   "metadata": {},
   "source": [
    "You should get about 1.1/1.2 RMSE, we can probably do better !"
   ]
  },
  {
   "cell_type": "markdown",
   "metadata": {},
   "source": [
    "## Train the same model on your GPU and on your CPU, and compare the training time"
   ]
  },
  {
   "cell_type": "markdown",
   "metadata": {},
   "source": [
    "Keras uses the `tensorflow` python library for the computation part, if you have installed your GPU drivers and the GPU version of keras, then it will run on your GPU by default. We can force tensorflow to use the cpu instead:"
   ]
  },
  {
   "cell_type": "code",
   "execution_count": 29,
   "metadata": {},
   "outputs": [
    {
     "name": "stdout",
     "output_type": "stream",
     "text": [
      "Epoch 1/20\n",
      "178/178 [==============================] - 1s 3ms/step - loss: 13.3282 - mse: 13.3282\n",
      "Epoch 2/20\n",
      "178/178 [==============================] - 1s 5ms/step - loss: 11.4468 - mse: 11.4468\n",
      "Epoch 3/20\n",
      "178/178 [==============================] - 1s 4ms/step - loss: 5.3385 - mse: 5.3385\n",
      "Epoch 4/20\n",
      "178/178 [==============================] - 1s 5ms/step - loss: 2.5119 - mse: 2.5119\n",
      "Epoch 5/20\n",
      "178/178 [==============================] - 1s 6ms/step - loss: 1.7164 - mse: 1.7164\n",
      "Epoch 6/20\n",
      "178/178 [==============================] - 1s 5ms/step - loss: 1.3453 - mse: 1.3453\n",
      "Epoch 7/20\n",
      "178/178 [==============================] - 1s 6ms/step - loss: 1.1326 - mse: 1.1326\n",
      "Epoch 8/20\n",
      "178/178 [==============================] - 1s 5ms/step - loss: 0.9961 - mse: 0.9961\n",
      "Epoch 9/20\n",
      "178/178 [==============================] - 1s 5ms/step - loss: 0.9018 - mse: 0.9018\n",
      "Epoch 10/20\n",
      "178/178 [==============================] - 1s 6ms/step - loss: 0.8337 - mse: 0.8337\n",
      "Epoch 11/20\n",
      "178/178 [==============================] - 1s 5ms/step - loss: 0.7826 - mse: 0.7826\n",
      "Epoch 12/20\n",
      "178/178 [==============================] - 1s 6ms/step - loss: 0.7427 - mse: 0.7427\n",
      "Epoch 13/20\n",
      "178/178 [==============================] - 1s 3ms/step - loss: 0.7103 - mse: 0.7103\n",
      "Epoch 14/20\n",
      "178/178 [==============================] - 1s 5ms/step - loss: 0.6844 - mse: 0.6844\n",
      "Epoch 15/20\n",
      "178/178 [==============================] - 1s 5ms/step - loss: 0.6621 - mse: 0.6621\n",
      "Epoch 16/20\n",
      "178/178 [==============================] - 1s 5ms/step - loss: 0.6431 - mse: 0.6431\n",
      "Epoch 17/20\n",
      "178/178 [==============================] - 1s 5ms/step - loss: 0.6263 - mse: 0.6263\n",
      "Epoch 18/20\n",
      "178/178 [==============================] - 0s 3ms/step - loss: 0.6115 - mse: 0.6115\n",
      "Epoch 19/20\n",
      "178/178 [==============================] - 0s 2ms/step - loss: 0.5970 - mse: 0.5970\n",
      "Epoch 20/20\n",
      "178/178 [==============================] - 0s 2ms/step - loss: 0.5834 - mse: 0.5834\n"
     ]
    }
   ],
   "source": [
    "import tensorflow as tf\n",
    "\n",
    "with tf.device('/cpu:0'):\n",
    "    mf_model = get_mf_model(nb_users, nb_movies, k)\n",
    "    history = mf_model.fit(X_train, y_train, epochs=20, batch_size=512)"
   ]
  },
  {
   "cell_type": "markdown",
   "metadata": {},
   "source": [
    "Our matrix farctorization model is a really simple model, with not enough operations to parallelize on the GPU, this is why the training time is quite similar for this model. However with deep networks models the training time can be up to 10x times faster on a GPU."
   ]
  },
  {
   "cell_type": "markdown",
   "metadata": {},
   "source": [
    "## Adding user and movie bias"
   ]
  },
  {
   "cell_type": "markdown",
   "metadata": {},
   "source": [
    "Let's enhance our matrix factorization model and add the user and movie biases to the rating estimation function as in equation (4) of Koren's paper ; except we will for the moment forget about the global bias $\\mu$ as it is not so intuitive to implement in Keras. Fill the function below to do so:"
   ]
  },
  {
   "cell_type": "code",
   "execution_count": 30,
   "metadata": {},
   "outputs": [],
   "source": [
    "from keras.layers import Add\n",
    "\n",
    "def get_mf_bias_model(nb_users, nb_movies, k):\n",
    "    \"\"\"\n",
    "    Build a smatrix factorization model with user and movie biases\n",
    "    \n",
    "    Input:\n",
    "        nb_users : int : The number of unique users\n",
    "        nb_movies : int : The number of unique movies\n",
    "        k : int : The size of the embeddings\n",
    "        \n",
    "    Output:\n",
    "        model : keras.models.Model : A keras model that implements matrix factorization with biases\n",
    "        \n",
    "    \"\"\"\n",
    "    \n",
    "    dim_embedddings = k\n",
    "    \n",
    "    # User embeddings\n",
    "    u = Input(shape=(1,), dtype='int32', name = 'u__user_id')\n",
    "    p_u = Embedding(nb_users, dim_embedddings, name=\"p_u__user_embedding\")(u)\n",
    "    p_u = Reshape((dim_embedddings,), name=\"p_u__user_embedding_reshaped\")(p_u)\n",
    "    \n",
    "    # Movie embeddings\n",
    "    i = Input(shape=(1,), dtype='int32', name = 'i__movie_id')\n",
    "    q_i = Embedding(nb_movies, dim_embedddings, name=\"q_i__movie_embedding\")(i)\n",
    "    q_i = Reshape((dim_embedddings,), name=\"q_i__movie_embedding_reshaped\")(q_i)\n",
    "\n",
    "\n",
    "    # User biases\n",
    "    b_u = Embedding(nb_users, 1, name=\"b_u__user_bias\")(u)\n",
    "    b_u = Reshape((1,), name=\"b_u__user_bias_reshaped\")(b_u)\n",
    "    \n",
    "    # Movie biases\n",
    "    b_i = Embedding(nb_movies, 1, name=\"b_i__movie_bias\")(i)\n",
    "    b_i = Reshape((1,), name=\"b_i__movie_bias_reshaped\")(b_i)\n",
    "    \n",
    "\n",
    "    #input(rappel)\n",
    "    nb_users = ratings_df['userId'].nunique()\n",
    "    nb_movies = len(movie_ids_map)\n",
    "\n",
    "    # Dot product\n",
    "    d = Dot(axes = 1)([p_u, q_i])\n",
    "    \n",
    "    # Add biases\n",
    "    added_biases = Add()([d, b_u, b_i])\n",
    "\n",
    "    model = Model(inputs=[u, i], outputs=added_biases, name=\"matrix_fact_bias\")\n",
    "    \n",
    "    model.compile(loss='mse', optimizer='adam', metrics=[\"mse\"])\n",
    "\n",
    "    return model\n",
    "\n"
   ]
  },
  {
   "cell_type": "code",
   "execution_count": 31,
   "metadata": {},
   "outputs": [],
   "source": [
    "mf_bias_model = get_mf_bias_model(nb_users, nb_movies, k)"
   ]
  },
  {
   "cell_type": "code",
   "execution_count": 32,
   "metadata": {},
   "outputs": [
    {
     "name": "stdout",
     "output_type": "stream",
     "text": [
      "Model: \"matrix_fact_bias\"\n",
      "__________________________________________________________________________________________________\n",
      " Layer (type)                Output Shape                 Param #   Connected to                  \n",
      "==================================================================================================\n",
      " u__user_id (InputLayer)     [(None, 1)]                  0         []                            \n",
      "                                                                                                  \n",
      " i__movie_id (InputLayer)    [(None, 1)]                  0         []                            \n",
      "                                                                                                  \n",
      " p_u__user_embedding (Embed  (None, 1, 30)                18300     ['u__user_id[0][0]']          \n",
      " ding)                                                                                            \n",
      "                                                                                                  \n",
      " q_i__movie_embedding (Embe  (None, 1, 30)                291720    ['i__movie_id[0][0]']         \n",
      " dding)                                                                                           \n",
      "                                                                                                  \n",
      " p_u__user_embedding_reshap  (None, 30)                   0         ['p_u__user_embedding[0][0]'] \n",
      " ed (Reshape)                                                                                     \n",
      "                                                                                                  \n",
      " q_i__movie_embedding_resha  (None, 30)                   0         ['q_i__movie_embedding[0][0]']\n",
      " ped (Reshape)                                                                                    \n",
      "                                                                                                  \n",
      " b_u__user_bias (Embedding)  (None, 1, 1)                 610       ['u__user_id[0][0]']          \n",
      "                                                                                                  \n",
      " b_i__movie_bias (Embedding  (None, 1, 1)                 9724      ['i__movie_id[0][0]']         \n",
      " )                                                                                                \n",
      "                                                                                                  \n",
      " dot_2 (Dot)                 (None, 1)                    0         ['p_u__user_embedding_reshaped\n",
      "                                                                    [0][0]',                      \n",
      "                                                                     'q_i__movie_embedding_reshape\n",
      "                                                                    d[0][0]']                     \n",
      "                                                                                                  \n",
      " b_u__user_bias_reshaped (R  (None, 1)                    0         ['b_u__user_bias[0][0]']      \n",
      " eshape)                                                                                          \n",
      "                                                                                                  \n",
      " b_i__movie_bias_reshaped (  (None, 1)                    0         ['b_i__movie_bias[0][0]']     \n",
      " Reshape)                                                                                         \n",
      "                                                                                                  \n",
      " add (Add)                   (None, 1)                    0         ['dot_2[0][0]',               \n",
      "                                                                     'b_u__user_bias_reshaped[0][0\n",
      "                                                                    ]',                           \n",
      "                                                                     'b_i__movie_bias_reshaped[0][\n",
      "                                                                    0]']                          \n",
      "                                                                                                  \n",
      "==================================================================================================\n",
      "Total params: 320354 (1.22 MB)\n",
      "Trainable params: 320354 (1.22 MB)\n",
      "Non-trainable params: 0 (0.00 Byte)\n",
      "__________________________________________________________________________________________________\n"
     ]
    }
   ],
   "source": [
    "mf_bias_model.summary()"
   ]
  },
  {
   "cell_type": "code",
   "execution_count": 33,
   "metadata": {},
   "outputs": [
    {
     "name": "stdout",
     "output_type": "stream",
     "text": [
      "Epoch 1/20\n"
     ]
    },
    {
     "name": "stdout",
     "output_type": "stream",
     "text": [
      "178/178 [==============================] - 1s 4ms/step - loss: 12.6445 - mse: 12.6445\n",
      "Epoch 2/20\n",
      "178/178 [==============================] - 1s 5ms/step - loss: 9.8198 - mse: 9.8198\n",
      "Epoch 3/20\n",
      "178/178 [==============================] - 1s 5ms/step - loss: 4.3175 - mse: 4.3175\n",
      "Epoch 4/20\n",
      "178/178 [==============================] - 1s 6ms/step - loss: 2.0702 - mse: 2.0702\n",
      "Epoch 5/20\n",
      "178/178 [==============================] - 1s 5ms/step - loss: 1.4391 - mse: 1.4391\n",
      "Epoch 6/20\n",
      "178/178 [==============================] - 1s 5ms/step - loss: 1.1438 - mse: 1.1438\n",
      "Epoch 7/20\n",
      "178/178 [==============================] - 1s 6ms/step - loss: 0.9751 - mse: 0.9751\n",
      "Epoch 8/20\n",
      "178/178 [==============================] - 1s 5ms/step - loss: 0.8672 - mse: 0.8672\n",
      "Epoch 9/20\n",
      "178/178 [==============================] - 1s 6ms/step - loss: 0.7932 - mse: 0.7932\n",
      "Epoch 10/20\n",
      "178/178 [==============================] - 1s 5ms/step - loss: 0.7398 - mse: 0.7398\n",
      "Epoch 11/20\n",
      "178/178 [==============================] - 1s 6ms/step - loss: 0.6994 - mse: 0.6994\n",
      "Epoch 12/20\n",
      "178/178 [==============================] - 1s 4ms/step - loss: 0.6682 - mse: 0.6682\n",
      "Epoch 13/20\n",
      "178/178 [==============================] - 1s 6ms/step - loss: 0.6434 - mse: 0.6434\n",
      "Epoch 14/20\n",
      "178/178 [==============================] - 1s 5ms/step - loss: 0.6225 - mse: 0.6225\n",
      "Epoch 15/20\n",
      "178/178 [==============================] - 1s 5ms/step - loss: 0.6044 - mse: 0.6044\n",
      "Epoch 16/20\n",
      "178/178 [==============================] - 1s 5ms/step - loss: 0.5883 - mse: 0.5883\n",
      "Epoch 17/20\n",
      "178/178 [==============================] - 1s 4ms/step - loss: 0.5733 - mse: 0.5733\n",
      "Epoch 18/20\n",
      "178/178 [==============================] - 1s 6ms/step - loss: 0.5597 - mse: 0.5597\n",
      "Epoch 19/20\n",
      "178/178 [==============================] - 1s 4ms/step - loss: 0.5460 - mse: 0.5460\n",
      "Epoch 20/20\n",
      "178/178 [==============================] - 1s 6ms/step - loss: 0.5326 - mse: 0.5326\n"
     ]
    }
   ],
   "source": [
    "history = mf_bias_model.fit(X_train, y_train, epochs=20, batch_size=512)\n"
   ]
  },
  {
   "cell_type": "code",
   "execution_count": 34,
   "metadata": {},
   "outputs": [
    {
     "name": "stdout",
     "output_type": "stream",
     "text": [
      "316/316 [==============================] - 0s 1ms/step\n",
      " Test RMSE : 1.017850611850672 \n"
     ]
    }
   ],
   "source": [
    "y_pred = mf_bias_model.predict(X_test)\n",
    "\n",
    "test_rmse = sqrt(mean_squared_error(y_test, y_pred))\n",
    "\n",
    "print(\" Test RMSE : %s \" % test_rmse)"
   ]
  },
  {
   "cell_type": "markdown",
   "metadata": {},
   "source": [
    "You should get a lower RMSE, about 1.0/1.1"
   ]
  },
  {
   "cell_type": "markdown",
   "metadata": {},
   "source": [
    "## Adding L2 regularization"
   ]
  },
  {
   "cell_type": "markdown",
   "metadata": {},
   "source": [
    "For the moment we have omitted the regularization of the embeddings and bias parameters, as described in equation (5) of Koren's paper. We are now going to add them to the model, have a look at https://keras.io/layers/embeddings/ and https://keras.io/regularizers/ to see how to do this with keras. Fill the function below to implement it:"
   ]
  },
  {
   "cell_type": "code",
   "execution_count": 35,
   "metadata": {},
   "outputs": [],
   "source": [
    "from keras import regularizers\n",
    "from keras.regularizers import l2\n",
    "\n",
    "def get_mf_bias_l2_reg_model(nb_users, nb_movies, k, lambda_):\n",
    "    \"\"\"\n",
    "    Build a smatrix factorization model with user and movie biases, and L2 regularization\n",
    "    \n",
    "    Input:\n",
    "        nb_users : int : The number of unique users\n",
    "        nb_movies : int : The number of unique movies\n",
    "        k : int : The size of the embeddings\n",
    "        \n",
    "    Output:\n",
    "        model : keras.models.Model : A keras model that implements matrix factorization with biases\n",
    "            and L2 regularization\n",
    "        \n",
    "    \"\"\"\n",
    "    \n",
    "    dim_embedddings = k\n",
    "    \n",
    "    # User embeddings\n",
    "    u = Input(shape=(1,), dtype='int32', name = 'u__user_id')\n",
    "    p_u = Embedding(nb_users, dim_embedddings, name=\"p_u__user_embedding\", embeddings_regularizer=l2(lambda_))(u)\n",
    "    p_u = Reshape((dim_embedddings,), name=\"p_u__user_embedding_reshaped\")(p_u)\n",
    "    \n",
    "    # Movie embeddings\n",
    "    i = Input(shape=(1,), dtype='int32', name = 'i__movie_id')\n",
    "    q_i = Embedding(nb_movies, dim_embedddings, name=\"q_i__movie_embedding\", embeddings_regularizer=l2(lambda_))(i)\n",
    "    q_i = Reshape((dim_embedddings,), name=\"q_i__movie_embedding_reshaped\")(q_i)\n",
    "\n",
    "    # User biases\n",
    "    b_u = Embedding(nb_users, 1, name=\"b_u__user_bias\", embeddings_regularizer=l2(lambda_))(u)\n",
    "    b_u = Reshape((1,), name=\"b_u__user_bias_reshaped\")(b_u)\n",
    "    \n",
    "    # Movie biases\n",
    "    b_i = Embedding(nb_movies, 1, name=\"b_i__movie_bias\", embeddings_regularizer=l2(lambda_))(i)\n",
    "    b_i = Reshape((1,), name=\"b_i__movie_bias_reshaped\")(b_i)\n",
    "    \n",
    "    # Dot product\n",
    "    d = Dot(axes = 1)([p_u, q_i])\n",
    "    \n",
    "    # Add biases\n",
    "    added_biases = Add()([d, b_u, b_i])\n",
    "\n",
    "    model = Model(inputs=[u, i], outputs=added_biases, name=\"matrix_fact_bias_reg\")\n",
    "    \n",
    "    model.compile(loss='mse', optimizer='adam', metrics=[\"mse\"])\n",
    "\n",
    "    \n",
    "    return model\n",
    "        \n"
   ]
  },
  {
   "cell_type": "code",
   "execution_count": 36,
   "metadata": {},
   "outputs": [],
   "source": [
    "lambda_ = 0.00001\n",
    "mf_bias_reg_model = get_mf_bias_l2_reg_model(nb_users, nb_movies, k, lambda_)"
   ]
  },
  {
   "cell_type": "code",
   "execution_count": 37,
   "metadata": {},
   "outputs": [
    {
     "name": "stdout",
     "output_type": "stream",
     "text": [
      "Model: \"matrix_fact_bias_reg\"\n",
      "__________________________________________________________________________________________________\n",
      " Layer (type)                Output Shape                 Param #   Connected to                  \n",
      "==================================================================================================\n",
      " u__user_id (InputLayer)     [(None, 1)]                  0         []                            \n",
      "                                                                                                  \n",
      " i__movie_id (InputLayer)    [(None, 1)]                  0         []                            \n",
      "                                                                                                  \n",
      " p_u__user_embedding (Embed  (None, 1, 30)                18300     ['u__user_id[0][0]']          \n",
      " ding)                                                                                            \n",
      "                                                                                                  \n",
      " q_i__movie_embedding (Embe  (None, 1, 30)                291720    ['i__movie_id[0][0]']         \n",
      " dding)                                                                                           \n",
      "                                                                                                  \n",
      " p_u__user_embedding_reshap  (None, 30)                   0         ['p_u__user_embedding[0][0]'] \n",
      " ed (Reshape)                                                                                     \n",
      "                                                                                                  \n",
      " q_i__movie_embedding_resha  (None, 30)                   0         ['q_i__movie_embedding[0][0]']\n",
      " ped (Reshape)                                                                                    \n",
      "                                                                                                  \n",
      " b_u__user_bias (Embedding)  (None, 1, 1)                 610       ['u__user_id[0][0]']          \n",
      "                                                                                                  \n",
      " b_i__movie_bias (Embedding  (None, 1, 1)                 9724      ['i__movie_id[0][0]']         \n",
      " )                                                                                                \n",
      "                                                                                                  \n",
      " dot_3 (Dot)                 (None, 1)                    0         ['p_u__user_embedding_reshaped\n",
      "                                                                    [0][0]',                      \n",
      "                                                                     'q_i__movie_embedding_reshape\n",
      "                                                                    d[0][0]']                     \n",
      "                                                                                                  \n",
      " b_u__user_bias_reshaped (R  (None, 1)                    0         ['b_u__user_bias[0][0]']      \n",
      " eshape)                                                                                          \n",
      "                                                                                                  \n",
      " b_i__movie_bias_reshaped (  (None, 1)                    0         ['b_i__movie_bias[0][0]']     \n",
      " Reshape)                                                                                         \n",
      "                                                                                                  \n",
      " add_1 (Add)                 (None, 1)                    0         ['dot_3[0][0]',               \n",
      "                                                                     'b_u__user_bias_reshaped[0][0\n",
      "                                                                    ]',                           \n",
      "                                                                     'b_i__movie_bias_reshaped[0][\n",
      "                                                                    0]']                          \n",
      "                                                                                                  \n",
      "==================================================================================================\n",
      "Total params: 320354 (1.22 MB)\n",
      "Trainable params: 320354 (1.22 MB)\n",
      "Non-trainable params: 0 (0.00 Byte)\n",
      "__________________________________________________________________________________________________\n"
     ]
    }
   ],
   "source": [
    "mf_bias_reg_model.summary()"
   ]
  },
  {
   "cell_type": "code",
   "execution_count": 38,
   "metadata": {},
   "outputs": [
    {
     "name": "stdout",
     "output_type": "stream",
     "text": [
      "Epoch 1/20\n"
     ]
    },
    {
     "name": "stdout",
     "output_type": "stream",
     "text": [
      "178/178 [==============================] - 1s 2ms/step - loss: 12.6517 - mse: 12.6500\n",
      "Epoch 2/20\n",
      "178/178 [==============================] - 0s 2ms/step - loss: 9.5902 - mse: 9.5822\n",
      "Epoch 3/20\n",
      "178/178 [==============================] - 0s 3ms/step - loss: 4.0511 - mse: 4.0173\n",
      "Epoch 4/20\n",
      "178/178 [==============================] - 0s 3ms/step - loss: 2.0837 - mse: 2.0263\n",
      "Epoch 5/20\n",
      "178/178 [==============================] - 0s 3ms/step - loss: 1.5202 - mse: 1.4478\n",
      "Epoch 6/20\n",
      "178/178 [==============================] - 0s 2ms/step - loss: 1.2560 - mse: 1.1724\n",
      "Epoch 7/20\n",
      "178/178 [==============================] - 0s 3ms/step - loss: 1.1070 - mse: 1.0144\n",
      "Epoch 8/20\n",
      "178/178 [==============================] - 0s 3ms/step - loss: 1.0129 - mse: 0.9131\n",
      "Epoch 9/20\n",
      "178/178 [==============================] - 0s 2ms/step - loss: 0.9496 - mse: 0.8436\n",
      "Epoch 10/20\n",
      "178/178 [==============================] - 0s 3ms/step - loss: 0.9045 - mse: 0.7933\n",
      "Epoch 11/20\n",
      "178/178 [==============================] - 0s 3ms/step - loss: 0.8707 - mse: 0.7550\n",
      "Epoch 12/20\n",
      "178/178 [==============================] - 0s 3ms/step - loss: 0.8445 - mse: 0.7251\n",
      "Epoch 13/20\n",
      "178/178 [==============================] - 0s 3ms/step - loss: 0.8236 - mse: 0.7009\n",
      "Epoch 14/20\n",
      "178/178 [==============================] - 0s 2ms/step - loss: 0.8065 - mse: 0.6809\n",
      "Epoch 15/20\n",
      "178/178 [==============================] - 0s 3ms/step - loss: 0.7917 - mse: 0.6638\n",
      "Epoch 16/20\n",
      "178/178 [==============================] - 1s 3ms/step - loss: 0.7784 - mse: 0.6484\n",
      "Epoch 17/20\n",
      "178/178 [==============================] - 1s 3ms/step - loss: 0.7664 - mse: 0.6346\n",
      "Epoch 18/20\n",
      "178/178 [==============================] - 1s 3ms/step - loss: 0.7552 - mse: 0.6219\n",
      "Epoch 19/20\n",
      "178/178 [==============================] - 0s 3ms/step - loss: 0.7438 - mse: 0.6092\n",
      "Epoch 20/20\n",
      "178/178 [==============================] - 1s 4ms/step - loss: 0.7325 - mse: 0.5967\n"
     ]
    }
   ],
   "source": [
    "history = mf_bias_reg_model.fit(X_train, y_train, epochs=20, batch_size=512)\n"
   ]
  },
  {
   "cell_type": "code",
   "execution_count": 39,
   "metadata": {},
   "outputs": [
    {
     "name": "stdout",
     "output_type": "stream",
     "text": [
      "316/316 [==============================] - 1s 1ms/step\n",
      " Test RMSE : 1.017850611850672 \n"
     ]
    }
   ],
   "source": [
    "param_gridy_pred = mf_bias_reg_model.predict(X_test)\n",
    "\n",
    "test_rmse = sqrt(mean_squared_error(y_test, y_pred))\n",
    "\n",
    "print(\" Test RMSE : %s \" % test_rmse)"
   ]
  },
  {
   "cell_type": "markdown",
   "metadata": {},
   "source": [
    "You should get a slightly better RMSE, but sometimes regularization is very important for achieving good test performances, in depends on the data."
   ]
  },
  {
   "cell_type": "markdown",
   "metadata": {},
   "source": [
    "## Early Stopping"
   ]
  },
  {
   "cell_type": "markdown",
   "metadata": {},
   "source": [
    "Instead of setting manually the maximum number of epochs, we prefer to use *early stopping*. When training with early stopping, keras keeps a given validation set though the parameter `validation_split`, on which it is going to monitor a performance measure you give it (here the `mse`) at every epoch, and continue optimization while the mse on the validation set keeps going down, and stops it when it goes back up. This mechanism is an easy way to avoid over-fitting, you can read more about it there : https://machinelearningmastery.com/how-to-stop-training-deep-neural-networks-at-the-right-time-using-early-stopping/\n",
    "\n",
    "In general when using early stopping we setup a high number of maximum epochs, that is never reach because the optimization is stopped by early stopping first :"
   ]
  },
  {
   "cell_type": "code",
   "execution_count": 40,
   "metadata": {},
   "outputs": [
    {
     "name": "stdout",
     "output_type": "stream",
     "text": [
      "Epoch 1/500\n",
      "160/160 [==============================] - 2s 6ms/step - loss: 12.7216 - mse: 12.7200 - val_loss: 12.1744 - val_mse: 12.1727\n",
      "Epoch 2/500\n",
      "160/160 [==============================] - 0s 3ms/step - loss: 10.6369 - mse: 10.6320 - val_loss: 8.5052 - val_mse: 8.4938\n",
      "Epoch 3/500\n",
      "160/160 [==============================] - 1s 4ms/step - loss: 5.5552 - mse: 5.5312 - val_loss: 3.6335 - val_mse: 3.5957\n",
      "Epoch 4/500\n",
      "160/160 [==============================] - 0s 3ms/step - loss: 2.5356 - mse: 2.4867 - val_loss: 2.3048 - val_mse: 2.2465\n",
      "Epoch 5/500\n",
      "160/160 [==============================] - 1s 3ms/step - loss: 1.7083 - mse: 1.6430 - val_loss: 1.8420 - val_mse: 1.7701\n",
      "Epoch 6/500\n",
      "160/160 [==============================] - 0s 3ms/step - loss: 1.3548 - mse: 1.2775 - val_loss: 1.6093 - val_mse: 1.5270\n",
      "Epoch 7/500\n",
      "160/160 [==============================] - 1s 3ms/step - loss: 1.1610 - mse: 1.0745 - val_loss: 1.4751 - val_mse: 1.3844\n",
      "Epoch 8/500\n",
      "160/160 [==============================] - 1s 4ms/step - loss: 1.0408 - mse: 0.9467 - val_loss: 1.3915 - val_mse: 1.2940\n",
      "Epoch 9/500\n",
      "160/160 [==============================] - 0s 3ms/step - loss: 0.9607 - mse: 0.8602 - val_loss: 1.3387 - val_mse: 1.2354\n",
      "Epoch 10/500\n",
      "160/160 [==============================] - 0s 3ms/step - loss: 0.9042 - mse: 0.7984 - val_loss: 1.3028 - val_mse: 1.1945\n",
      "Epoch 11/500\n",
      "160/160 [==============================] - 0s 3ms/step - loss: 0.8622 - mse: 0.7518 - val_loss: 1.2774 - val_mse: 1.1649\n",
      "Epoch 12/500\n",
      "160/160 [==============================] - 0s 3ms/step - loss: 0.8297 - mse: 0.7154 - val_loss: 1.2609 - val_mse: 1.1449\n",
      "Epoch 13/500\n",
      "160/160 [==============================] - 0s 3ms/step - loss: 0.8037 - mse: 0.6861 - val_loss: 1.2492 - val_mse: 1.1300\n",
      "Epoch 14/500\n",
      "160/160 [==============================] - 0s 3ms/step - loss: 0.7826 - mse: 0.6620 - val_loss: 1.2402 - val_mse: 1.1184\n",
      "Epoch 15/500\n",
      "160/160 [==============================] - 0s 3ms/step - loss: 0.7640 - mse: 0.6410 - val_loss: 1.2335 - val_mse: 1.1093\n",
      "Epoch 16/500\n",
      "160/160 [==============================] - 0s 3ms/step - loss: 0.7474 - mse: 0.6222 - val_loss: 1.2290 - val_mse: 1.1028\n",
      "Epoch 17/500\n",
      "160/160 [==============================] - 0s 3ms/step - loss: 0.7326 - mse: 0.6055 - val_loss: 1.2248 - val_mse: 1.0968\n",
      "Epoch 18/500\n",
      "160/160 [==============================] - 0s 3ms/step - loss: 0.7188 - mse: 0.5901 - val_loss: 1.2229 - val_mse: 1.0935\n",
      "Epoch 19/500\n",
      "160/160 [==============================] - 1s 4ms/step - loss: 0.7058 - mse: 0.5756 - val_loss: 1.2208 - val_mse: 1.0900\n",
      "Epoch 20/500\n",
      "160/160 [==============================] - 1s 4ms/step - loss: 0.6930 - mse: 0.5616 - val_loss: 1.2209 - val_mse: 1.0890\n",
      "Epoch 21/500\n",
      "160/160 [==============================] - 0s 3ms/step - loss: 0.6807 - mse: 0.5482 - val_loss: 1.2197 - val_mse: 1.0868\n",
      "Epoch 22/500\n",
      "160/160 [==============================] - 1s 4ms/step - loss: 0.6682 - mse: 0.5349 - val_loss: 1.2194 - val_mse: 1.0856\n",
      "Epoch 23/500\n",
      "160/160 [==============================] - 0s 3ms/step - loss: 0.6558 - mse: 0.5216 - val_loss: 1.2211 - val_mse: 1.0865\n",
      "Epoch 24/500\n",
      "160/160 [==============================] - 1s 4ms/step - loss: 0.6440 - mse: 0.5090 - val_loss: 1.2204 - val_mse: 1.0850\n",
      "Epoch 25/500\n",
      "160/160 [==============================] - 1s 3ms/step - loss: 0.6316 - mse: 0.4960 - val_loss: 1.2210 - val_mse: 1.0850\n",
      "Epoch 26/500\n",
      "160/160 [==============================] - 0s 3ms/step - loss: 0.6193 - mse: 0.4831 - val_loss: 1.2208 - val_mse: 1.0842\n",
      "Epoch 27/500\n",
      "160/160 [==============================] - 1s 3ms/step - loss: 0.6070 - mse: 0.4702 - val_loss: 1.2227 - val_mse: 1.0856\n",
      "Epoch 28/500\n",
      "160/160 [==============================] - 1s 3ms/step - loss: 0.5950 - mse: 0.4577 - val_loss: 1.2234 - val_mse: 1.0857\n",
      "Epoch 29/500\n",
      "160/160 [==============================] - 0s 3ms/step - loss: 0.5829 - mse: 0.4451 - val_loss: 1.2250 - val_mse: 1.0869\n",
      "Epoch 30/500\n",
      "160/160 [==============================] - 0s 3ms/step - loss: 0.5710 - mse: 0.4327 - val_loss: 1.2262 - val_mse: 1.0876\n",
      "Epoch 31/500\n",
      "149/160 [==========================>...] - ETA: 0s - loss: 0.5579 - mse: 0.4192Restoring model weights from the end of the best epoch: 26.\n",
      "160/160 [==============================] - 1s 3ms/step - loss: 0.5590 - mse: 0.4203 - val_loss: 1.2286 - val_mse: 1.0896\n",
      "Epoch 31: early stopping\n"
     ]
    }
   ],
   "source": [
    "from keras.callbacks import EarlyStopping\n",
    "\n",
    "mf_bias_reg_model = get_mf_bias_l2_reg_model(nb_users, nb_movies, k, lambda_)\n",
    "early_stopping = EarlyStopping(monitor='val_mse', patience=5, verbose=1, restore_best_weights=True)\n",
    "history = mf_bias_reg_model.fit(X_train, y_train, epochs=500, batch_size=512, validation_split=0.1, callbacks=[early_stopping])"
   ]
  },
  {
   "cell_type": "code",
   "execution_count": 41,
   "metadata": {},
   "outputs": [
    {
     "data": {
      "text/plain": [
       "1.0841964483261108"
      ]
     },
     "execution_count": 41,
     "metadata": {},
     "output_type": "execute_result"
    }
   ],
   "source": [
    "min(history.history['val_mse'])"
   ]
  },
  {
   "cell_type": "markdown",
   "metadata": {},
   "source": [
    "As you can see the training stops before 500 epochs, when the validation MSE stops decreasing during 5 consecutive epochs (the patience value = 5). "
   ]
  },
  {
   "cell_type": "markdown",
   "metadata": {},
   "source": [
    "## Grid search embedding size and regularization factor with early stopping"
   ]
  },
  {
   "cell_type": "markdown",
   "metadata": {},
   "source": [
    "So for the moment we didn't grid search our model hyper-parameters, such as `k` and `lambda_`. There exists some scikit-learn wrappers for keras models in order to use scikit grid search functions, unfortunately they only work with single input keras models, which is not our case as we have two inputs: the user and the movie indexes.\n",
    "\n",
    "So let's implement your own grid search function for the two parameters `k` and `lambda_`. With big enough datasets, it is not necessary to do a cross-validation for each hyper-parameter combination, and we can simply split the training set into a sub-training set and a validation set to test our hyper-parameters. It does work because the validation set is big enough to see enough data variations, and with very big datasets, it is anyway not possible anymore to do a full cross-validation as it takes too much time to train. \n",
    "\n",
    "Fill in the `grid_search` function below and use early stopping with a validation split (just like above), and retrieve the validation RMSE (you can get the MSE from the `history` variable that is returned by the `fit` method (and then take the `sqrt` of that)) for all the hyper-parameter combinations from the `param_grid` dictionary of hyper-parameter values. Call the `get_model_function` parameter (yes, you can pass functions as parameters!) to generate each model, and return the hyper-parameters that give the lowest RMSE on the 10% validation set, the RMSE value, and the best corresponding trained model."
   ]
  },
  {
   "cell_type": "code",
   "execution_count": 42,
   "metadata": {},
   "outputs": [],
   "source": [
    "import itertools\n",
    "\n",
    "\n",
    "def grid_search(data, param_grid, get_model_function, nb_users, nb_movies, validation_size = 0.1):\n",
    "    \"\"\"\n",
    "    Performs a grid search over the \n",
    "    \n",
    "    Input:\n",
    "        data : DataFrame : The training set to be split between training and validation sets\n",
    "        param_grid : dict : Dictionary containing the values of the hyper-parameters to grid-search\n",
    "        get_model_function : function : A function that returns the keras model to grid-search\n",
    "        nb_users : int : The number of unique users\n",
    "        nb_movies : int : The number of unique movies\n",
    "        validation_size : float : Proportion of the validation set\n",
    "        \n",
    "    Output:\n",
    "        best_params : dict : A dictionary of the best hyper-parameters values\n",
    "        best_score : float : The validation RMSE corresponding to the best\n",
    "        best_model : keras.Model : The model trained with the best hyper-parameters\n",
    "        \n",
    "    \"\"\"\n",
    "    \n",
    "    best_score = np.inf\n",
    "    best_params = {}\n",
    "    best_model = None\n",
    "\n",
    "    for k in param_grid['k']:\n",
    "        for l in param_grid['lambda_']:\n",
    "            model = get_mf_bias_l2_reg_model(nb_users, nb_movies, k, lambda_)\n",
    "            history = model.fit(X_train, y_train, epochs=500, batch_size=512, validation_split=0.1, callbacks=[early_stopping])\n",
    "            val_mse = min(history.history['val_mse'])\n",
    "            \n",
    "            if val_mse < best_score:\n",
    "               best_score = val_mse\n",
    "               best_params['k'] = k\n",
    "               best_params['lambda_'] = l\n",
    "               best_model=model\n",
    "\n",
    "\n",
    "    return best_params, best_score, best_model"
   ]
  },
  {
   "cell_type": "code",
   "execution_count": 43,
   "metadata": {
    "scrolled": true
   },
   "outputs": [
    {
     "name": "stdout",
     "output_type": "stream",
     "text": [
      "Epoch 1/500\n"
     ]
    },
    {
     "name": "stdout",
     "output_type": "stream",
     "text": [
      "160/160 [==============================] - 1s 4ms/step - loss: 12.7146 - mse: 12.7137 - val_loss: 12.1620 - val_mse: 12.1610\n",
      "Epoch 2/500\n",
      "160/160 [==============================] - 1s 3ms/step - loss: 10.7758 - mse: 10.7723 - val_loss: 9.1062 - val_mse: 9.0981\n",
      "Epoch 3/500\n",
      "160/160 [==============================] - 0s 3ms/step - loss: 6.7532 - mse: 6.7370 - val_loss: 4.9495 - val_mse: 4.9242\n",
      "Epoch 4/500\n",
      "160/160 [==============================] - 0s 3ms/step - loss: 3.5289 - mse: 3.4944 - val_loss: 2.9451 - val_mse: 2.9022\n",
      "Epoch 5/500\n",
      "160/160 [==============================] - 0s 3ms/step - loss: 2.2466 - mse: 2.1970 - val_loss: 2.2406 - val_mse: 2.1850\n",
      "Epoch 6/500\n",
      "160/160 [==============================] - 0s 3ms/step - loss: 1.7263 - mse: 1.6659 - val_loss: 1.8918 - val_mse: 1.8268\n",
      "Epoch 7/500\n",
      "160/160 [==============================] - 0s 3ms/step - loss: 1.4415 - mse: 1.3725 - val_loss: 1.6842 - val_mse: 1.6115\n",
      "Epoch 8/500\n",
      "160/160 [==============================] - 0s 3ms/step - loss: 1.2628 - mse: 1.1868 - val_loss: 1.5481 - val_mse: 1.4688\n",
      "Epoch 9/500\n",
      "160/160 [==============================] - 0s 3ms/step - loss: 1.1421 - mse: 1.0599 - val_loss: 1.4544 - val_mse: 1.3695\n",
      "Epoch 10/500\n",
      "160/160 [==============================] - 0s 2ms/step - loss: 1.0561 - mse: 0.9686 - val_loss: 1.3870 - val_mse: 1.2971\n",
      "Epoch 11/500\n",
      "160/160 [==============================] - 0s 3ms/step - loss: 0.9922 - mse: 0.9001 - val_loss: 1.3375 - val_mse: 1.2431\n",
      "Epoch 12/500\n",
      "160/160 [==============================] - 1s 3ms/step - loss: 0.9440 - mse: 0.8476 - val_loss: 1.3001 - val_mse: 1.2019\n",
      "Epoch 13/500\n",
      "160/160 [==============================] - 0s 3ms/step - loss: 0.9065 - mse: 0.8065 - val_loss: 1.2725 - val_mse: 1.1707\n",
      "Epoch 14/500\n",
      "160/160 [==============================] - 0s 3ms/step - loss: 0.8767 - mse: 0.7733 - val_loss: 1.2509 - val_mse: 1.1460\n",
      "Epoch 15/500\n",
      "160/160 [==============================] - 0s 2ms/step - loss: 0.8526 - mse: 0.7463 - val_loss: 1.2345 - val_mse: 1.1267\n",
      "Epoch 16/500\n",
      "160/160 [==============================] - 0s 3ms/step - loss: 0.8330 - mse: 0.7239 - val_loss: 1.2217 - val_mse: 1.1114\n",
      "Epoch 17/500\n",
      "160/160 [==============================] - 0s 3ms/step - loss: 0.8167 - mse: 0.7053 - val_loss: 1.2111 - val_mse: 1.0985\n",
      "Epoch 18/500\n",
      "160/160 [==============================] - 0s 2ms/step - loss: 0.8031 - mse: 0.6895 - val_loss: 1.2033 - val_mse: 1.0886\n",
      "Epoch 19/500\n",
      "160/160 [==============================] - 0s 2ms/step - loss: 0.7917 - mse: 0.6761 - val_loss: 1.1978 - val_mse: 1.0814\n",
      "Epoch 20/500\n",
      "160/160 [==============================] - 0s 3ms/step - loss: 0.7818 - mse: 0.6645 - val_loss: 1.1928 - val_mse: 1.0747\n",
      "Epoch 21/500\n",
      "160/160 [==============================] - 0s 3ms/step - loss: 0.7729 - mse: 0.6540 - val_loss: 1.1886 - val_mse: 1.0690\n",
      "Epoch 22/500\n",
      "160/160 [==============================] - 0s 3ms/step - loss: 0.7655 - mse: 0.6452 - val_loss: 1.1855 - val_mse: 1.0645\n",
      "Epoch 23/500\n",
      "160/160 [==============================] - 1s 4ms/step - loss: 0.7585 - mse: 0.6369 - val_loss: 1.1833 - val_mse: 1.0611\n",
      "Epoch 24/500\n",
      "160/160 [==============================] - 0s 3ms/step - loss: 0.7522 - mse: 0.6295 - val_loss: 1.1819 - val_mse: 1.0587\n",
      "Epoch 25/500\n",
      "160/160 [==============================] - 0s 3ms/step - loss: 0.7468 - mse: 0.6231 - val_loss: 1.1781 - val_mse: 1.0539\n",
      "Epoch 26/500\n",
      "160/160 [==============================] - 0s 3ms/step - loss: 0.7410 - mse: 0.6164 - val_loss: 1.1782 - val_mse: 1.0532\n",
      "Epoch 27/500\n",
      "160/160 [==============================] - 1s 3ms/step - loss: 0.7362 - mse: 0.6108 - val_loss: 1.1763 - val_mse: 1.0506\n",
      "Epoch 28/500\n",
      "160/160 [==============================] - 0s 3ms/step - loss: 0.7311 - mse: 0.6051 - val_loss: 1.1760 - val_mse: 1.0497\n",
      "Epoch 29/500\n",
      "160/160 [==============================] - 0s 3ms/step - loss: 0.7263 - mse: 0.5997 - val_loss: 1.1748 - val_mse: 1.0479\n",
      "Epoch 30/500\n",
      "160/160 [==============================] - 0s 3ms/step - loss: 0.7213 - mse: 0.5941 - val_loss: 1.1724 - val_mse: 1.0451\n",
      "Epoch 31/500\n",
      "160/160 [==============================] - 1s 3ms/step - loss: 0.7166 - mse: 0.5891 - val_loss: 1.1719 - val_mse: 1.0441\n",
      "Epoch 32/500\n",
      "160/160 [==============================] - 0s 2ms/step - loss: 0.7116 - mse: 0.5837 - val_loss: 1.1719 - val_mse: 1.0438\n",
      "Epoch 33/500\n",
      "160/160 [==============================] - 0s 2ms/step - loss: 0.7067 - mse: 0.5785 - val_loss: 1.1715 - val_mse: 1.0430\n",
      "Epoch 34/500\n",
      "160/160 [==============================] - 0s 3ms/step - loss: 0.7017 - mse: 0.5731 - val_loss: 1.1709 - val_mse: 1.0422\n",
      "Epoch 35/500\n",
      "160/160 [==============================] - 1s 4ms/step - loss: 0.6958 - mse: 0.5671 - val_loss: 1.1691 - val_mse: 1.0401\n",
      "Epoch 36/500\n",
      "160/160 [==============================] - 0s 3ms/step - loss: 0.6905 - mse: 0.5615 - val_loss: 1.1684 - val_mse: 1.0393\n",
      "Epoch 37/500\n",
      "160/160 [==============================] - 0s 3ms/step - loss: 0.6846 - mse: 0.5556 - val_loss: 1.1668 - val_mse: 1.0376\n",
      "Epoch 38/500\n",
      "160/160 [==============================] - 0s 3ms/step - loss: 0.6788 - mse: 0.5495 - val_loss: 1.1671 - val_mse: 1.0377\n",
      "Epoch 39/500\n",
      "160/160 [==============================] - 1s 6ms/step - loss: 0.6726 - mse: 0.5432 - val_loss: 1.1668 - val_mse: 1.0373\n",
      "Epoch 40/500\n",
      "160/160 [==============================] - 1s 6ms/step - loss: 0.6661 - mse: 0.5367 - val_loss: 1.1663 - val_mse: 1.0368\n",
      "Epoch 41/500\n",
      "160/160 [==============================] - 1s 6ms/step - loss: 0.6595 - mse: 0.5300 - val_loss: 1.1652 - val_mse: 1.0356\n",
      "Epoch 42/500\n",
      "160/160 [==============================] - 1s 6ms/step - loss: 0.6526 - mse: 0.5230 - val_loss: 1.1647 - val_mse: 1.0351\n",
      "Epoch 43/500\n",
      "160/160 [==============================] - 0s 3ms/step - loss: 0.6454 - mse: 0.5158 - val_loss: 1.1641 - val_mse: 1.0345\n",
      "Epoch 44/500\n",
      "160/160 [==============================] - 0s 3ms/step - loss: 0.6385 - mse: 0.5089 - val_loss: 1.1637 - val_mse: 1.0340\n",
      "Epoch 45/500\n",
      "160/160 [==============================] - 0s 3ms/step - loss: 0.6312 - mse: 0.5015 - val_loss: 1.1630 - val_mse: 1.0332\n",
      "Epoch 46/500\n",
      "160/160 [==============================] - 1s 6ms/step - loss: 0.6239 - mse: 0.4942 - val_loss: 1.1632 - val_mse: 1.0334\n",
      "Epoch 47/500\n",
      "160/160 [==============================] - 1s 4ms/step - loss: 0.6164 - mse: 0.4867 - val_loss: 1.1629 - val_mse: 1.0331\n",
      "Epoch 48/500\n",
      "160/160 [==============================] - 1s 6ms/step - loss: 0.6088 - mse: 0.4791 - val_loss: 1.1626 - val_mse: 1.0327\n",
      "Epoch 49/500\n",
      "160/160 [==============================] - 1s 7ms/step - loss: 0.6015 - mse: 0.4717 - val_loss: 1.1642 - val_mse: 1.0343\n",
      "Epoch 50/500\n",
      "160/160 [==============================] - 1s 5ms/step - loss: 0.5939 - mse: 0.4641 - val_loss: 1.1640 - val_mse: 1.0341\n",
      "Epoch 51/500\n",
      "160/160 [==============================] - 1s 4ms/step - loss: 0.5866 - mse: 0.4567 - val_loss: 1.1656 - val_mse: 1.0356\n",
      "Epoch 52/500\n",
      "160/160 [==============================] - 1s 3ms/step - loss: 0.5790 - mse: 0.4491 - val_loss: 1.1665 - val_mse: 1.0363\n",
      "Epoch 53/500\n",
      "154/160 [===========================>..] - ETA: 0s - loss: 0.5718 - mse: 0.4417Restoring model weights from the end of the best epoch: 48.\n",
      "160/160 [==============================] - 1s 4ms/step - loss: 0.5716 - mse: 0.4416 - val_loss: 1.1668 - val_mse: 1.0366\n",
      "Epoch 53: early stopping\n",
      "Epoch 1/500\n",
      "160/160 [==============================] - 2s 7ms/step - loss: 12.7496 - mse: 12.7488 - val_loss: 12.2312 - val_mse: 12.2303\n",
      "Epoch 2/500\n",
      "160/160 [==============================] - 1s 5ms/step - loss: 11.1390 - mse: 11.1365 - val_loss: 9.8499 - val_mse: 9.8443\n",
      "Epoch 3/500\n",
      "160/160 [==============================] - 1s 5ms/step - loss: 7.5735 - mse: 7.5609 - val_loss: 5.6166 - val_mse: 5.5953\n",
      "Epoch 4/500\n",
      "160/160 [==============================] - 1s 5ms/step - loss: 3.9571 - mse: 3.9265 - val_loss: 3.1568 - val_mse: 3.1171\n",
      "Epoch 5/500\n",
      "160/160 [==============================] - 1s 6ms/step - loss: 2.3856 - mse: 2.3387 - val_loss: 2.3157 - val_mse: 2.2623\n",
      "Epoch 6/500\n",
      "160/160 [==============================] - 1s 6ms/step - loss: 1.7855 - mse: 1.7271 - val_loss: 1.9293 - val_mse: 1.8660\n",
      "Epoch 7/500\n",
      "160/160 [==============================] - 1s 5ms/step - loss: 1.4728 - mse: 1.4054 - val_loss: 1.7045 - val_mse: 1.6333\n",
      "Epoch 8/500\n",
      "160/160 [==============================] - 1s 5ms/step - loss: 1.2812 - mse: 1.2065 - val_loss: 1.5595 - val_mse: 1.4815\n",
      "Epoch 9/500\n",
      "160/160 [==============================] - 1s 6ms/step - loss: 1.1540 - mse: 1.0730 - val_loss: 1.4604 - val_mse: 1.3766\n",
      "Epoch 10/500\n",
      "160/160 [==============================] - 1s 5ms/step - loss: 1.0642 - mse: 0.9778 - val_loss: 1.3902 - val_mse: 1.3013\n",
      "Epoch 11/500\n",
      "160/160 [==============================] - 1s 5ms/step - loss: 0.9980 - mse: 0.9068 - val_loss: 1.3392 - val_mse: 1.2458\n",
      "Epoch 12/500\n",
      "160/160 [==============================] - 1s 5ms/step - loss: 0.9481 - mse: 0.8527 - val_loss: 1.3014 - val_mse: 1.2040\n",
      "Epoch 13/500\n",
      "160/160 [==============================] - 1s 6ms/step - loss: 0.9092 - mse: 0.8100 - val_loss: 1.2721 - val_mse: 1.1712\n",
      "Epoch 14/500\n",
      "160/160 [==============================] - 1s 5ms/step - loss: 0.8782 - mse: 0.7756 - val_loss: 1.2508 - val_mse: 1.1466\n",
      "Epoch 15/500\n",
      "160/160 [==============================] - 1s 5ms/step - loss: 0.8532 - mse: 0.7476 - val_loss: 1.2343 - val_mse: 1.1273\n",
      "Epoch 16/500\n",
      "160/160 [==============================] - 1s 5ms/step - loss: 0.8324 - mse: 0.7241 - val_loss: 1.2197 - val_mse: 1.1100\n",
      "Epoch 17/500\n",
      "160/160 [==============================] - 1s 5ms/step - loss: 0.8150 - mse: 0.7042 - val_loss: 1.2097 - val_mse: 1.0977\n",
      "Epoch 18/500\n",
      "160/160 [==============================] - 1s 6ms/step - loss: 0.8002 - mse: 0.6872 - val_loss: 1.2020 - val_mse: 1.0879\n",
      "Epoch 19/500\n",
      "160/160 [==============================] - 1s 5ms/step - loss: 0.7876 - mse: 0.6726 - val_loss: 1.1951 - val_mse: 1.0791\n",
      "Epoch 20/500\n",
      "160/160 [==============================] - 0s 3ms/step - loss: 0.7762 - mse: 0.6594 - val_loss: 1.1900 - val_mse: 1.0723\n",
      "Epoch 21/500\n",
      "160/160 [==============================] - 1s 5ms/step - loss: 0.7661 - mse: 0.6476 - val_loss: 1.1861 - val_mse: 1.0668\n",
      "Epoch 22/500\n",
      "160/160 [==============================] - 1s 5ms/step - loss: 0.7571 - mse: 0.6372 - val_loss: 1.1824 - val_mse: 1.0618\n",
      "Epoch 23/500\n",
      "160/160 [==============================] - 1s 5ms/step - loss: 0.7487 - mse: 0.6275 - val_loss: 1.1808 - val_mse: 1.0590\n",
      "Epoch 24/500\n",
      "160/160 [==============================] - 1s 6ms/step - loss: 0.7410 - mse: 0.6185 - val_loss: 1.1788 - val_mse: 1.0559\n",
      "Epoch 25/500\n",
      "160/160 [==============================] - 1s 6ms/step - loss: 0.7334 - mse: 0.6100 - val_loss: 1.1771 - val_mse: 1.0532\n",
      "Epoch 26/500\n",
      "160/160 [==============================] - 1s 5ms/step - loss: 0.7265 - mse: 0.6021 - val_loss: 1.1760 - val_mse: 1.0512\n",
      "Epoch 27/500\n",
      "160/160 [==============================] - 1s 5ms/step - loss: 0.7195 - mse: 0.5944 - val_loss: 1.1765 - val_mse: 1.0510\n",
      "Epoch 28/500\n",
      "160/160 [==============================] - 1s 5ms/step - loss: 0.7126 - mse: 0.5868 - val_loss: 1.1741 - val_mse: 1.0479\n",
      "Epoch 29/500\n",
      "160/160 [==============================] - 1s 5ms/step - loss: 0.7059 - mse: 0.5794 - val_loss: 1.1739 - val_mse: 1.0471\n",
      "Epoch 30/500\n",
      "160/160 [==============================] - 1s 4ms/step - loss: 0.6988 - mse: 0.5718 - val_loss: 1.1741 - val_mse: 1.0469\n",
      "Epoch 31/500\n",
      "160/160 [==============================] - 1s 5ms/step - loss: 0.6922 - mse: 0.5648 - val_loss: 1.1733 - val_mse: 1.0456\n",
      "Epoch 32/500\n",
      "160/160 [==============================] - 1s 6ms/step - loss: 0.6853 - mse: 0.5575 - val_loss: 1.1741 - val_mse: 1.0460\n",
      "Epoch 33/500\n",
      "160/160 [==============================] - 1s 6ms/step - loss: 0.6784 - mse: 0.5501 - val_loss: 1.1735 - val_mse: 1.0451\n",
      "Epoch 34/500\n",
      "160/160 [==============================] - 1s 5ms/step - loss: 0.6714 - mse: 0.5428 - val_loss: 1.1729 - val_mse: 1.0442\n",
      "Epoch 35/500\n",
      "160/160 [==============================] - 1s 5ms/step - loss: 0.6645 - mse: 0.5357 - val_loss: 1.1730 - val_mse: 1.0441\n",
      "Epoch 36/500\n",
      "160/160 [==============================] - 1s 5ms/step - loss: 0.6574 - mse: 0.5284 - val_loss: 1.1734 - val_mse: 1.0443\n",
      "Epoch 37/500\n",
      "160/160 [==============================] - 0s 3ms/step - loss: 0.6504 - mse: 0.5212 - val_loss: 1.1740 - val_mse: 1.0448\n",
      "Epoch 38/500\n",
      "160/160 [==============================] - 1s 5ms/step - loss: 0.6435 - mse: 0.5141 - val_loss: 1.1740 - val_mse: 1.0446\n",
      "Epoch 39/500\n",
      "160/160 [==============================] - 1s 7ms/step - loss: 0.6362 - mse: 0.5067 - val_loss: 1.1737 - val_mse: 1.0441\n",
      "Epoch 40/500\n",
      "160/160 [==============================] - 1s 6ms/step - loss: 0.6291 - mse: 0.4995 - val_loss: 1.1745 - val_mse: 1.0448\n",
      "Epoch 41/500\n",
      "160/160 [==============================] - 1s 5ms/step - loss: 0.6219 - mse: 0.4921 - val_loss: 1.1746 - val_mse: 1.0447\n",
      "Epoch 42/500\n",
      "160/160 [==============================] - 1s 5ms/step - loss: 0.6148 - mse: 0.4849 - val_loss: 1.1752 - val_mse: 1.0453\n",
      "Epoch 43/500\n",
      "160/160 [==============================] - 1s 5ms/step - loss: 0.6077 - mse: 0.4779 - val_loss: 1.1757 - val_mse: 1.0457\n",
      "Epoch 44/500\n",
      "138/160 [========================>.....] - ETA: 0s - loss: 0.5992 - mse: 0.4692Restoring model weights from the end of the best epoch: 39.\n",
      "160/160 [==============================] - 1s 5ms/step - loss: 0.6005 - mse: 0.4705 - val_loss: 1.1762 - val_mse: 1.0462\n",
      "Epoch 44: early stopping\n",
      "Epoch 1/500\n",
      "160/160 [==============================] - 2s 5ms/step - loss: 12.7094 - mse: 12.7086 - val_loss: 12.1808 - val_mse: 12.1798\n",
      "Epoch 2/500\n",
      "160/160 [==============================] - 1s 6ms/step - loss: 10.9359 - mse: 10.9330 - val_loss: 9.3903 - val_mse: 9.3833\n",
      "Epoch 3/500\n",
      "160/160 [==============================] - 1s 6ms/step - loss: 6.9954 - mse: 6.9804 - val_loss: 5.0883 - val_mse: 5.0640\n",
      "Epoch 4/500\n",
      "160/160 [==============================] - 1s 7ms/step - loss: 3.6093 - mse: 3.5758 - val_loss: 2.9754 - val_mse: 2.9332\n",
      "Epoch 5/500\n",
      "160/160 [==============================] - 1s 6ms/step - loss: 2.2747 - mse: 2.2257 - val_loss: 2.2523 - val_mse: 2.1973\n",
      "Epoch 6/500\n",
      "160/160 [==============================] - 1s 6ms/step - loss: 1.7412 - mse: 1.6812 - val_loss: 1.8993 - val_mse: 1.8348\n",
      "Epoch 7/500\n",
      "160/160 [==============================] - 1s 6ms/step - loss: 1.4522 - mse: 1.3837 - val_loss: 1.6884 - val_mse: 1.6160\n",
      "Epoch 8/500\n",
      "160/160 [==============================] - 1s 6ms/step - loss: 1.2720 - mse: 1.1964 - val_loss: 1.5509 - val_mse: 1.4720\n",
      "Epoch 9/500\n",
      "160/160 [==============================] - 1s 6ms/step - loss: 1.1509 - mse: 1.0692 - val_loss: 1.4565 - val_mse: 1.3719\n",
      "Epoch 10/500\n",
      "160/160 [==============================] - 1s 4ms/step - loss: 1.0657 - mse: 0.9786 - val_loss: 1.3886 - val_mse: 1.2990\n",
      "Epoch 11/500\n",
      "160/160 [==============================] - 0s 2ms/step - loss: 1.0033 - mse: 0.9115 - val_loss: 1.3396 - val_mse: 1.2456\n",
      "Epoch 12/500\n",
      "160/160 [==============================] - 0s 3ms/step - loss: 0.9558 - mse: 0.8599 - val_loss: 1.3023 - val_mse: 1.2045\n",
      "Epoch 13/500\n",
      "160/160 [==============================] - 0s 3ms/step - loss: 0.9190 - mse: 0.8194 - val_loss: 1.2749 - val_mse: 1.1735\n",
      "Epoch 14/500\n",
      "160/160 [==============================] - 0s 3ms/step - loss: 0.8902 - mse: 0.7873 - val_loss: 1.2529 - val_mse: 1.1484\n",
      "Epoch 15/500\n",
      "160/160 [==============================] - 0s 3ms/step - loss: 0.8669 - mse: 0.7609 - val_loss: 1.2362 - val_mse: 1.1289\n",
      "Epoch 16/500\n",
      "160/160 [==============================] - 0s 3ms/step - loss: 0.8481 - mse: 0.7395 - val_loss: 1.2222 - val_mse: 1.1122\n",
      "Epoch 17/500\n",
      "160/160 [==============================] - 0s 3ms/step - loss: 0.8325 - mse: 0.7215 - val_loss: 1.2122 - val_mse: 1.0999\n",
      "Epoch 18/500\n",
      "160/160 [==============================] - 1s 3ms/step - loss: 0.8197 - mse: 0.7064 - val_loss: 1.2036 - val_mse: 1.0893\n",
      "Epoch 19/500\n",
      "160/160 [==============================] - 0s 2ms/step - loss: 0.8084 - mse: 0.6932 - val_loss: 1.1978 - val_mse: 1.0817\n",
      "Epoch 20/500\n",
      "160/160 [==============================] - 0s 2ms/step - loss: 0.7990 - mse: 0.6821 - val_loss: 1.1913 - val_mse: 1.0735\n",
      "Epoch 21/500\n",
      "160/160 [==============================] - 0s 2ms/step - loss: 0.7909 - mse: 0.6723 - val_loss: 1.1865 - val_mse: 1.0672\n",
      "Epoch 22/500\n",
      "160/160 [==============================] - 0s 3ms/step - loss: 0.7835 - mse: 0.6635 - val_loss: 1.1838 - val_mse: 1.0632\n",
      "Epoch 23/500\n",
      "160/160 [==============================] - 0s 3ms/step - loss: 0.7770 - mse: 0.6557 - val_loss: 1.1803 - val_mse: 1.0584\n",
      "Epoch 24/500\n",
      "160/160 [==============================] - 0s 2ms/step - loss: 0.7709 - mse: 0.6485 - val_loss: 1.1784 - val_mse: 1.0554\n",
      "Epoch 25/500\n",
      "160/160 [==============================] - 1s 4ms/step - loss: 0.7652 - mse: 0.6418 - val_loss: 1.1760 - val_mse: 1.0521\n",
      "Epoch 26/500\n",
      "160/160 [==============================] - 1s 4ms/step - loss: 0.7601 - mse: 0.6358 - val_loss: 1.1742 - val_mse: 1.0494\n",
      "Epoch 27/500\n",
      "160/160 [==============================] - 1s 6ms/step - loss: 0.7548 - mse: 0.6297 - val_loss: 1.1714 - val_mse: 1.0459\n",
      "Epoch 28/500\n",
      "160/160 [==============================] - 0s 3ms/step - loss: 0.7497 - mse: 0.6238 - val_loss: 1.1704 - val_mse: 1.0442\n",
      "Epoch 29/500\n",
      "160/160 [==============================] - 1s 5ms/step - loss: 0.7444 - mse: 0.6179 - val_loss: 1.1683 - val_mse: 1.0415\n",
      "Epoch 30/500\n",
      "160/160 [==============================] - 1s 6ms/step - loss: 0.7393 - mse: 0.6123 - val_loss: 1.1670 - val_mse: 1.0396\n",
      "Epoch 31/500\n",
      "160/160 [==============================] - 1s 6ms/step - loss: 0.7336 - mse: 0.6061 - val_loss: 1.1652 - val_mse: 1.0374\n",
      "Epoch 32/500\n",
      "160/160 [==============================] - 1s 6ms/step - loss: 0.7279 - mse: 0.5999 - val_loss: 1.1650 - val_mse: 1.0368\n",
      "Epoch 33/500\n",
      "160/160 [==============================] - 1s 7ms/step - loss: 0.7219 - mse: 0.5936 - val_loss: 1.1636 - val_mse: 1.0351\n",
      "Epoch 34/500\n",
      "160/160 [==============================] - 1s 6ms/step - loss: 0.7155 - mse: 0.5869 - val_loss: 1.1630 - val_mse: 1.0342\n",
      "Epoch 35/500\n",
      "160/160 [==============================] - 1s 3ms/step - loss: 0.7090 - mse: 0.5801 - val_loss: 1.1624 - val_mse: 1.0334\n",
      "Epoch 36/500\n",
      "160/160 [==============================] - 0s 3ms/step - loss: 0.7019 - mse: 0.5727 - val_loss: 1.1612 - val_mse: 1.0319\n",
      "Epoch 37/500\n",
      "160/160 [==============================] - 1s 7ms/step - loss: 0.6944 - mse: 0.5650 - val_loss: 1.1603 - val_mse: 1.0308\n",
      "Epoch 38/500\n",
      "160/160 [==============================] - 1s 7ms/step - loss: 0.6870 - mse: 0.5574 - val_loss: 1.1587 - val_mse: 1.0291\n",
      "Epoch 39/500\n",
      "160/160 [==============================] - 1s 5ms/step - loss: 0.6791 - mse: 0.5494 - val_loss: 1.1578 - val_mse: 1.0280\n",
      "Epoch 40/500\n",
      "160/160 [==============================] - 1s 4ms/step - loss: 0.6709 - mse: 0.5411 - val_loss: 1.1586 - val_mse: 1.0286\n",
      "Epoch 41/500\n",
      "160/160 [==============================] - 1s 4ms/step - loss: 0.6625 - mse: 0.5326 - val_loss: 1.1579 - val_mse: 1.0279\n",
      "Epoch 42/500\n",
      "160/160 [==============================] - 1s 4ms/step - loss: 0.6541 - mse: 0.5241 - val_loss: 1.1578 - val_mse: 1.0278\n",
      "Epoch 43/500\n",
      "160/160 [==============================] - 1s 6ms/step - loss: 0.6455 - mse: 0.5155 - val_loss: 1.1584 - val_mse: 1.0283\n",
      "Epoch 44/500\n",
      "160/160 [==============================] - 1s 6ms/step - loss: 0.6368 - mse: 0.5067 - val_loss: 1.1582 - val_mse: 1.0281\n",
      "Epoch 45/500\n",
      "160/160 [==============================] - 1s 4ms/step - loss: 0.6281 - mse: 0.4981 - val_loss: 1.1572 - val_mse: 1.0270\n",
      "Epoch 46/500\n",
      "160/160 [==============================] - 1s 4ms/step - loss: 0.6195 - mse: 0.4894 - val_loss: 1.1577 - val_mse: 1.0275\n",
      "Epoch 47/500\n",
      "160/160 [==============================] - 1s 5ms/step - loss: 0.6108 - mse: 0.4807 - val_loss: 1.1589 - val_mse: 1.0286\n",
      "Epoch 48/500\n",
      "160/160 [==============================] - 1s 4ms/step - loss: 0.6022 - mse: 0.4720 - val_loss: 1.1588 - val_mse: 1.0285\n",
      "Epoch 49/500\n",
      "160/160 [==============================] - 1s 4ms/step - loss: 0.5937 - mse: 0.4635 - val_loss: 1.1608 - val_mse: 1.0304\n",
      "Epoch 50/500\n",
      "160/160 [==============================] - ETA: 0s - loss: 0.5854 - mse: 0.4551Restoring model weights from the end of the best epoch: 45.\n",
      "160/160 [==============================] - 1s 6ms/step - loss: 0.5854 - mse: 0.4551 - val_loss: 1.1605 - val_mse: 1.0301\n",
      "Epoch 50: early stopping\n",
      "Epoch 1/500\n",
      "160/160 [==============================] - 3s 9ms/step - loss: 12.7067 - mse: 12.7051 - val_loss: 12.1241 - val_mse: 12.1223\n",
      "Epoch 2/500\n",
      "160/160 [==============================] - 1s 7ms/step - loss: 10.5203 - mse: 10.5151 - val_loss: 8.4028 - val_mse: 8.3912\n",
      "Epoch 3/500\n",
      "160/160 [==============================] - 1s 6ms/step - loss: 5.5350 - mse: 5.5110 - val_loss: 3.6547 - val_mse: 3.6171\n",
      "Epoch 4/500\n",
      "160/160 [==============================] - 1s 7ms/step - loss: 2.5577 - mse: 2.5093 - val_loss: 2.3173 - val_mse: 2.2593\n",
      "Epoch 5/500\n",
      "160/160 [==============================] - 1s 7ms/step - loss: 1.7234 - mse: 1.6585 - val_loss: 1.8508 - val_mse: 1.7794\n",
      "Epoch 6/500\n",
      "160/160 [==============================] - 1s 7ms/step - loss: 1.3649 - mse: 1.2881 - val_loss: 1.6163 - val_mse: 1.5344\n",
      "Epoch 7/500\n",
      "160/160 [==============================] - 1s 7ms/step - loss: 1.1673 - mse: 1.0811 - val_loss: 1.4818 - val_mse: 1.3915\n",
      "Epoch 8/500\n",
      "160/160 [==============================] - 1s 6ms/step - loss: 1.0440 - mse: 0.9502 - val_loss: 1.3967 - val_mse: 1.2994\n",
      "Epoch 9/500\n",
      "160/160 [==============================] - 1s 6ms/step - loss: 0.9606 - mse: 0.8603 - val_loss: 1.3428 - val_mse: 1.2396\n",
      "Epoch 10/500\n",
      "160/160 [==============================] - 1s 7ms/step - loss: 0.9010 - mse: 0.7953 - val_loss: 1.3063 - val_mse: 1.1981\n",
      "Epoch 11/500\n",
      "160/160 [==============================] - 1s 7ms/step - loss: 0.8569 - mse: 0.7465 - val_loss: 1.2821 - val_mse: 1.1696\n",
      "Epoch 12/500\n",
      "160/160 [==============================] - 1s 6ms/step - loss: 0.8226 - mse: 0.7082 - val_loss: 1.2628 - val_mse: 1.1465\n",
      "Epoch 13/500\n",
      "160/160 [==============================] - 1s 7ms/step - loss: 0.7956 - mse: 0.6778 - val_loss: 1.2531 - val_mse: 1.1337\n",
      "Epoch 14/500\n",
      "160/160 [==============================] - 1s 7ms/step - loss: 0.7728 - mse: 0.6520 - val_loss: 1.2468 - val_mse: 1.1246\n",
      "Epoch 15/500\n",
      "160/160 [==============================] - 1s 7ms/step - loss: 0.7544 - mse: 0.6310 - val_loss: 1.2409 - val_mse: 1.1164\n",
      "Epoch 16/500\n",
      "160/160 [==============================] - 1s 7ms/step - loss: 0.7374 - mse: 0.6118 - val_loss: 1.2376 - val_mse: 1.1110\n",
      "Epoch 17/500\n",
      "160/160 [==============================] - 1s 6ms/step - loss: 0.7228 - mse: 0.5953 - val_loss: 1.2345 - val_mse: 1.1061\n",
      "Epoch 18/500\n",
      "160/160 [==============================] - 1s 7ms/step - loss: 0.7088 - mse: 0.5796 - val_loss: 1.2326 - val_mse: 1.1026\n",
      "Epoch 19/500\n",
      "160/160 [==============================] - 1s 6ms/step - loss: 0.6959 - mse: 0.5653 - val_loss: 1.2342 - val_mse: 1.1030\n",
      "Epoch 20/500\n",
      "160/160 [==============================] - 1s 7ms/step - loss: 0.6835 - mse: 0.5516 - val_loss: 1.2321 - val_mse: 1.0996\n",
      "Epoch 21/500\n",
      "160/160 [==============================] - 1s 7ms/step - loss: 0.6713 - mse: 0.5383 - val_loss: 1.2323 - val_mse: 1.0988\n",
      "Epoch 22/500\n",
      "160/160 [==============================] - 1s 6ms/step - loss: 0.6596 - mse: 0.5257 - val_loss: 1.2340 - val_mse: 1.0997\n",
      "Epoch 23/500\n",
      "160/160 [==============================] - 1s 6ms/step - loss: 0.6480 - mse: 0.5132 - val_loss: 1.2351 - val_mse: 1.0999\n",
      "Epoch 24/500\n",
      "160/160 [==============================] - 1s 8ms/step - loss: 0.6366 - mse: 0.5010 - val_loss: 1.2344 - val_mse: 1.0985\n",
      "Epoch 25/500\n",
      "160/160 [==============================] - 1s 7ms/step - loss: 0.6250 - mse: 0.4888 - val_loss: 1.2369 - val_mse: 1.1004\n",
      "Epoch 26/500\n",
      "160/160 [==============================] - 1s 7ms/step - loss: 0.6136 - mse: 0.4768 - val_loss: 1.2383 - val_mse: 1.1011\n",
      "Epoch 27/500\n",
      "160/160 [==============================] - 1s 7ms/step - loss: 0.6023 - mse: 0.4649 - val_loss: 1.2397 - val_mse: 1.1020\n",
      "Epoch 28/500\n",
      "160/160 [==============================] - 1s 6ms/step - loss: 0.5909 - mse: 0.4529 - val_loss: 1.2405 - val_mse: 1.1022\n",
      "Epoch 29/500\n",
      "153/160 [===========================>..] - ETA: 0s - loss: 0.5780 - mse: 0.4396Restoring model weights from the end of the best epoch: 24.\n",
      "160/160 [==============================] - 1s 6ms/step - loss: 0.5794 - mse: 0.4410 - val_loss: 1.2423 - val_mse: 1.1036\n",
      "Epoch 29: early stopping\n",
      "Epoch 1/500\n",
      "160/160 [==============================] - 2s 7ms/step - loss: 12.6993 - mse: 12.6977 - val_loss: 12.1409 - val_mse: 12.1392\n",
      "Epoch 2/500\n",
      "160/160 [==============================] - 1s 7ms/step - loss: 10.5405 - mse: 10.5354 - val_loss: 8.3361 - val_mse: 8.3243\n",
      "Epoch 3/500\n",
      "160/160 [==============================] - 1s 6ms/step - loss: 5.4094 - mse: 5.3847 - val_loss: 3.5508 - val_mse: 3.5123\n",
      "Epoch 4/500\n",
      "160/160 [==============================] - 1s 4ms/step - loss: 2.4972 - mse: 2.4479 - val_loss: 2.2871 - val_mse: 2.2285\n",
      "Epoch 5/500\n",
      "160/160 [==============================] - 1s 5ms/step - loss: 1.7010 - mse: 1.6354 - val_loss: 1.8358 - val_mse: 1.7637\n",
      "Epoch 6/500\n",
      "160/160 [==============================] - 1s 6ms/step - loss: 1.3556 - mse: 1.2783 - val_loss: 1.6096 - val_mse: 1.5272\n",
      "Epoch 7/500\n",
      "160/160 [==============================] - 1s 5ms/step - loss: 1.1656 - mse: 1.0790 - val_loss: 1.4790 - val_mse: 1.3883\n",
      "Epoch 8/500\n",
      "160/160 [==============================] - 1s 7ms/step - loss: 1.0474 - mse: 0.9532 - val_loss: 1.3959 - val_mse: 1.2982\n",
      "Epoch 9/500\n",
      "160/160 [==============================] - 1s 6ms/step - loss: 0.9680 - mse: 0.8673 - val_loss: 1.3416 - val_mse: 1.2381\n",
      "Epoch 10/500\n",
      "160/160 [==============================] - 1s 6ms/step - loss: 0.9119 - mse: 0.8058 - val_loss: 1.3058 - val_mse: 1.1973\n",
      "Epoch 11/500\n",
      "160/160 [==============================] - 1s 6ms/step - loss: 0.8702 - mse: 0.7595 - val_loss: 1.2800 - val_mse: 1.1672\n",
      "Epoch 12/500\n",
      "160/160 [==============================] - 1s 8ms/step - loss: 0.8385 - mse: 0.7238 - val_loss: 1.2623 - val_mse: 1.1457\n",
      "Epoch 13/500\n",
      "160/160 [==============================] - 1s 8ms/step - loss: 0.8137 - mse: 0.6956 - val_loss: 1.2506 - val_mse: 1.1309\n",
      "Epoch 14/500\n",
      "160/160 [==============================] - 1s 8ms/step - loss: 0.7930 - mse: 0.6720 - val_loss: 1.2423 - val_mse: 1.1199\n",
      "Epoch 15/500\n",
      "160/160 [==============================] - 1s 8ms/step - loss: 0.7759 - mse: 0.6522 - val_loss: 1.2344 - val_mse: 1.1097\n",
      "Epoch 16/500\n",
      "160/160 [==============================] - 1s 6ms/step - loss: 0.7607 - mse: 0.6349 - val_loss: 1.2302 - val_mse: 1.1033\n",
      "Epoch 17/500\n",
      "160/160 [==============================] - 1s 7ms/step - loss: 0.7471 - mse: 0.6193 - val_loss: 1.2260 - val_mse: 1.0974\n",
      "Epoch 18/500\n",
      "160/160 [==============================] - 1s 6ms/step - loss: 0.7342 - mse: 0.6047 - val_loss: 1.2246 - val_mse: 1.0945\n",
      "Epoch 19/500\n",
      "160/160 [==============================] - 1s 7ms/step - loss: 0.7219 - mse: 0.5912 - val_loss: 1.2217 - val_mse: 1.0903\n",
      "Epoch 20/500\n",
      "160/160 [==============================] - 1s 7ms/step - loss: 0.7097 - mse: 0.5776 - val_loss: 1.2207 - val_mse: 1.0881\n",
      "Epoch 21/500\n",
      "160/160 [==============================] - 1s 5ms/step - loss: 0.6976 - mse: 0.5644 - val_loss: 1.2195 - val_mse: 1.0859\n",
      "Epoch 22/500\n",
      "160/160 [==============================] - 1s 6ms/step - loss: 0.6858 - mse: 0.5517 - val_loss: 1.2202 - val_mse: 1.0856\n",
      "Epoch 23/500\n",
      "160/160 [==============================] - 1s 5ms/step - loss: 0.6735 - mse: 0.5385 - val_loss: 1.2183 - val_mse: 1.0829\n",
      "Epoch 24/500\n",
      "160/160 [==============================] - 1s 7ms/step - loss: 0.6613 - mse: 0.5256 - val_loss: 1.2180 - val_mse: 1.0819\n",
      "Epoch 25/500\n",
      "160/160 [==============================] - 1s 7ms/step - loss: 0.6489 - mse: 0.5125 - val_loss: 1.2183 - val_mse: 1.0816\n",
      "Epoch 26/500\n",
      "160/160 [==============================] - 1s 7ms/step - loss: 0.6365 - mse: 0.4995 - val_loss: 1.2180 - val_mse: 1.0808\n",
      "Epoch 27/500\n",
      "160/160 [==============================] - 1s 6ms/step - loss: 0.6240 - mse: 0.4865 - val_loss: 1.2186 - val_mse: 1.0808\n",
      "Epoch 28/500\n",
      "160/160 [==============================] - 1s 7ms/step - loss: 0.6113 - mse: 0.4733 - val_loss: 1.2185 - val_mse: 1.0802\n",
      "Epoch 29/500\n",
      "160/160 [==============================] - 1s 7ms/step - loss: 0.5986 - mse: 0.4601 - val_loss: 1.2189 - val_mse: 1.0801\n",
      "Epoch 30/500\n",
      "160/160 [==============================] - 1s 4ms/step - loss: 0.5860 - mse: 0.4471 - val_loss: 1.2206 - val_mse: 1.0814\n",
      "Epoch 31/500\n",
      "160/160 [==============================] - 1s 7ms/step - loss: 0.5737 - mse: 0.4344 - val_loss: 1.2215 - val_mse: 1.0818\n",
      "Epoch 32/500\n",
      "160/160 [==============================] - 1s 7ms/step - loss: 0.5615 - mse: 0.4218 - val_loss: 1.2233 - val_mse: 1.0833\n",
      "Epoch 33/500\n",
      "160/160 [==============================] - 1s 6ms/step - loss: 0.5494 - mse: 0.4093 - val_loss: 1.2244 - val_mse: 1.0840\n",
      "Epoch 34/500\n",
      "158/160 [============================>.] - ETA: 0s - loss: 0.5378 - mse: 0.3974Restoring model weights from the end of the best epoch: 29.\n",
      "160/160 [==============================] - 1s 7ms/step - loss: 0.5376 - mse: 0.3972 - val_loss: 1.2271 - val_mse: 1.0863\n",
      "Epoch 34: early stopping\n",
      "Epoch 1/500\n",
      "160/160 [==============================] - 3s 9ms/step - loss: 12.7416 - mse: 12.7400 - val_loss: 12.1669 - val_mse: 12.1651\n",
      "Epoch 2/500\n",
      "160/160 [==============================] - 1s 7ms/step - loss: 10.4545 - mse: 10.4490 - val_loss: 8.1355 - val_mse: 8.1228\n",
      "Epoch 3/500\n",
      "160/160 [==============================] - 1s 8ms/step - loss: 5.2764 - mse: 5.2508 - val_loss: 3.5016 - val_mse: 3.4624\n",
      "Epoch 4/500\n",
      "160/160 [==============================] - 1s 3ms/step - loss: 2.4735 - mse: 2.4236 - val_loss: 2.2799 - val_mse: 2.2208\n",
      "Epoch 5/500\n",
      "160/160 [==============================] - 0s 3ms/step - loss: 1.6955 - mse: 1.6295 - val_loss: 1.8370 - val_mse: 1.7647\n",
      "Epoch 6/500\n",
      "160/160 [==============================] - 1s 3ms/step - loss: 1.3538 - mse: 1.2763 - val_loss: 1.6114 - val_mse: 1.5289\n",
      "Epoch 7/500\n",
      "160/160 [==============================] - 1s 3ms/step - loss: 1.1645 - mse: 1.0777 - val_loss: 1.4802 - val_mse: 1.3893\n",
      "Epoch 8/500\n",
      "160/160 [==============================] - 1s 3ms/step - loss: 1.0466 - mse: 0.9523 - val_loss: 1.3972 - val_mse: 1.2996\n",
      "Epoch 9/500\n",
      "160/160 [==============================] - 1s 4ms/step - loss: 0.9670 - mse: 0.8664 - val_loss: 1.3441 - val_mse: 1.2406\n",
      "Epoch 10/500\n",
      "160/160 [==============================] - 1s 4ms/step - loss: 0.9106 - mse: 0.8046 - val_loss: 1.3074 - val_mse: 1.1990\n",
      "Epoch 11/500\n",
      "160/160 [==============================] - 0s 3ms/step - loss: 0.8683 - mse: 0.7577 - val_loss: 1.2834 - val_mse: 1.1708\n",
      "Epoch 12/500\n",
      "160/160 [==============================] - 1s 3ms/step - loss: 0.8363 - mse: 0.7218 - val_loss: 1.2653 - val_mse: 1.1491\n",
      "Epoch 13/500\n",
      "160/160 [==============================] - 0s 3ms/step - loss: 0.8104 - mse: 0.6925 - val_loss: 1.2537 - val_mse: 1.1344\n",
      "Epoch 14/500\n",
      "160/160 [==============================] - 0s 3ms/step - loss: 0.7894 - mse: 0.6687 - val_loss: 1.2459 - val_mse: 1.1239\n",
      "Epoch 15/500\n",
      "160/160 [==============================] - 0s 3ms/step - loss: 0.7713 - mse: 0.6482 - val_loss: 1.2398 - val_mse: 1.1155\n",
      "Epoch 16/500\n",
      "160/160 [==============================] - 1s 3ms/step - loss: 0.7561 - mse: 0.6308 - val_loss: 1.2346 - val_mse: 1.1082\n",
      "Epoch 17/500\n",
      "160/160 [==============================] - 0s 3ms/step - loss: 0.7424 - mse: 0.6153 - val_loss: 1.2320 - val_mse: 1.1040\n",
      "Epoch 18/500\n",
      "160/160 [==============================] - 0s 3ms/step - loss: 0.7296 - mse: 0.6009 - val_loss: 1.2299 - val_mse: 1.1005\n",
      "Epoch 19/500\n",
      "160/160 [==============================] - 0s 3ms/step - loss: 0.7173 - mse: 0.5873 - val_loss: 1.2296 - val_mse: 1.0989\n",
      "Epoch 20/500\n",
      "160/160 [==============================] - 0s 3ms/step - loss: 0.7053 - mse: 0.5740 - val_loss: 1.2287 - val_mse: 1.0969\n",
      "Epoch 21/500\n",
      "160/160 [==============================] - 0s 3ms/step - loss: 0.6938 - mse: 0.5614 - val_loss: 1.2271 - val_mse: 1.0942\n",
      "Epoch 22/500\n",
      "160/160 [==============================] - 0s 3ms/step - loss: 0.6822 - mse: 0.5490 - val_loss: 1.2289 - val_mse: 1.0953\n",
      "Epoch 23/500\n",
      "160/160 [==============================] - 0s 3ms/step - loss: 0.6707 - mse: 0.5365 - val_loss: 1.2289 - val_mse: 1.0944\n",
      "Epoch 24/500\n",
      "160/160 [==============================] - 1s 3ms/step - loss: 0.6589 - mse: 0.5241 - val_loss: 1.2282 - val_mse: 1.0931\n",
      "Epoch 25/500\n",
      "160/160 [==============================] - 0s 3ms/step - loss: 0.6474 - mse: 0.5119 - val_loss: 1.2295 - val_mse: 1.0937\n",
      "Epoch 26/500\n",
      "160/160 [==============================] - 0s 3ms/step - loss: 0.6357 - mse: 0.4997 - val_loss: 1.2293 - val_mse: 1.0929\n",
      "Epoch 27/500\n",
      "160/160 [==============================] - 0s 3ms/step - loss: 0.6239 - mse: 0.4872 - val_loss: 1.2304 - val_mse: 1.0935\n",
      "Epoch 28/500\n",
      "160/160 [==============================] - 0s 3ms/step - loss: 0.6121 - mse: 0.4749 - val_loss: 1.2314 - val_mse: 1.0939\n",
      "Epoch 29/500\n",
      "160/160 [==============================] - 1s 3ms/step - loss: 0.6005 - mse: 0.4629 - val_loss: 1.2318 - val_mse: 1.0938\n",
      "Epoch 30/500\n",
      "160/160 [==============================] - 0s 3ms/step - loss: 0.5883 - mse: 0.4502 - val_loss: 1.2337 - val_mse: 1.0954\n",
      "Epoch 31/500\n",
      "146/160 [==========================>...] - ETA: 0s - loss: 0.5774 - mse: 0.4389Restoring model weights from the end of the best epoch: 26.\n",
      "160/160 [==============================] - 0s 3ms/step - loss: 0.5768 - mse: 0.4383 - val_loss: 1.2353 - val_mse: 1.0965\n",
      "Epoch 31: early stopping\n"
     ]
    }
   ],
   "source": [
    "lambdas_ = [0.0002, 0.00005, 0.00002]\n",
    "ks = [15,30]\n",
    "\n",
    "param_grid = dict(k=ks, lambda_=lambdas_)\n",
    "\n",
    "best_params, best_score, best_model = grid_search(train, param_grid, get_mf_bias_l2_reg_model,\n",
    "                                      nb_users, nb_movies, validation_size = 0.1)\n"
   ]
  },
  {
   "cell_type": "code",
   "execution_count": 44,
   "metadata": {},
   "outputs": [
    {
     "name": "stdout",
     "output_type": "stream",
     "text": [
      "Best hyper-parameters : {'k': 15, 'lambda_': 2e-05}\n",
      "Best validation RMSE : 1.0270483493804932\n"
     ]
    }
   ],
   "source": [
    "print('Best hyper-parameters : ' + str(best_params))\n",
    "print('Best validation RMSE : ' + str(best_score))"
   ]
  },
  {
   "cell_type": "code",
   "execution_count": 45,
   "metadata": {},
   "outputs": [
    {
     "name": "stdout",
     "output_type": "stream",
     "text": [
      "  1/316 [..............................] - ETA: 36s"
     ]
    },
    {
     "name": "stdout",
     "output_type": "stream",
     "text": [
      "316/316 [==============================] - 1s 1ms/step\n",
      "Best model test RMSE : 1.001356274421119 \n"
     ]
    }
   ],
   "source": [
    "y_pred = best_model.predict(X_test)\n",
    "\n",
    "test_rmse = sqrt(mean_squared_error(y_test, y_pred))\n",
    "\n",
    "print(\"Best model test RMSE : %s \" % test_rmse)"
   ]
  },
  {
   "cell_type": "markdown",
   "metadata": {},
   "source": [
    "## Retrain on all the dataset with the best hyper-parameters"
   ]
  },
  {
   "cell_type": "markdown",
   "metadata": {},
   "source": [
    "Actually other hyper-parameters such as the ones of SGD should also be grid-searched, like the number of epochs or the batch size. But that would be a bit long for this course. \n",
    "\n",
    "Now we want to do the best prediction possible, so retrain below your model on the whole dataset, including the test set, with the best values obtained from your grid search to make new predictions with our optimal parameters :"
   ]
  },
  {
   "cell_type": "code",
   "execution_count": 46,
   "metadata": {
    "scrolled": true
   },
   "outputs": [
    {
     "name": "stdout",
     "output_type": "stream",
     "text": [
      "Epoch 1/500\n",
      "178/178 [==============================] - 1s 4ms/step - loss: 12.6517 - mse: 12.6502 - val_loss: 11.8680 - val_mse: 11.8661\n",
      "Epoch 2/500\n",
      "178/178 [==============================] - 1s 3ms/step - loss: 10.5964 - mse: 10.5894 - val_loss: 8.6665 - val_mse: 8.6497\n",
      "Epoch 3/500\n",
      "178/178 [==============================] - 0s 2ms/step - loss: 6.3279 - mse: 6.2930 - val_loss: 4.3363 - val_mse: 4.2807\n",
      "Epoch 4/500\n",
      "178/178 [==============================] - 0s 2ms/step - loss: 3.1823 - mse: 3.1077 - val_loss: 2.6055 - val_mse: 2.5136\n",
      "Epoch 5/500\n",
      "178/178 [==============================] - 0s 2ms/step - loss: 2.1088 - mse: 2.0040 - val_loss: 2.0373 - val_mse: 1.9207\n",
      "Epoch 6/500\n",
      "178/178 [==============================] - 0s 2ms/step - loss: 1.6716 - mse: 1.5456 - val_loss: 1.7581 - val_mse: 1.6230\n",
      "Epoch 7/500\n",
      "178/178 [==============================] - 1s 3ms/step - loss: 1.4315 - mse: 1.2889 - val_loss: 1.5942 - val_mse: 1.4442\n",
      "Epoch 8/500\n",
      "178/178 [==============================] - 0s 3ms/step - loss: 1.2830 - mse: 1.1267 - val_loss: 1.4910 - val_mse: 1.3286\n",
      "Epoch 9/500\n",
      "178/178 [==============================] - 0s 2ms/step - loss: 1.1839 - mse: 1.0161 - val_loss: 1.4222 - val_mse: 1.2492\n",
      "Epoch 10/500\n",
      "178/178 [==============================] - 0s 3ms/step - loss: 1.1144 - mse: 0.9369 - val_loss: 1.3732 - val_mse: 1.1911\n",
      "Epoch 11/500\n",
      "178/178 [==============================] - 0s 2ms/step - loss: 1.0637 - mse: 0.8776 - val_loss: 1.3379 - val_mse: 1.1480\n",
      "Epoch 12/500\n",
      "178/178 [==============================] - 0s 3ms/step - loss: 1.0252 - mse: 0.8318 - val_loss: 1.3130 - val_mse: 1.1162\n",
      "Epoch 13/500\n",
      "178/178 [==============================] - 0s 2ms/step - loss: 0.9958 - mse: 0.7960 - val_loss: 1.2938 - val_mse: 1.0911\n",
      "Epoch 14/500\n",
      "178/178 [==============================] - 0s 3ms/step - loss: 0.9722 - mse: 0.7669 - val_loss: 1.2791 - val_mse: 1.0713\n",
      "Epoch 15/500\n",
      "178/178 [==============================] - 0s 2ms/step - loss: 0.9530 - mse: 0.7430 - val_loss: 1.2684 - val_mse: 1.0561\n",
      "Epoch 16/500\n",
      "178/178 [==============================] - 0s 2ms/step - loss: 0.9369 - mse: 0.7225 - val_loss: 1.2595 - val_mse: 1.0433\n",
      "Epoch 17/500\n",
      "178/178 [==============================] - 0s 2ms/step - loss: 0.9235 - mse: 0.7057 - val_loss: 1.2519 - val_mse: 1.0324\n",
      "Epoch 18/500\n",
      "178/178 [==============================] - 0s 2ms/step - loss: 0.9118 - mse: 0.6908 - val_loss: 1.2463 - val_mse: 1.0238\n",
      "Epoch 19/500\n",
      "178/178 [==============================] - 0s 2ms/step - loss: 0.9012 - mse: 0.6776 - val_loss: 1.2414 - val_mse: 1.0165\n",
      "Epoch 20/500\n",
      "178/178 [==============================] - 0s 2ms/step - loss: 0.8920 - mse: 0.6661 - val_loss: 1.2376 - val_mse: 1.0105\n",
      "Epoch 21/500\n",
      "178/178 [==============================] - 0s 3ms/step - loss: 0.8831 - mse: 0.6552 - val_loss: 1.2331 - val_mse: 1.0042\n",
      "Epoch 22/500\n",
      "178/178 [==============================] - 1s 4ms/step - loss: 0.8750 - mse: 0.6453 - val_loss: 1.2291 - val_mse: 0.9987\n",
      "Epoch 23/500\n",
      "178/178 [==============================] - 0s 3ms/step - loss: 0.8672 - mse: 0.6362 - val_loss: 1.2259 - val_mse: 0.9943\n",
      "Epoch 24/500\n",
      "178/178 [==============================] - 0s 3ms/step - loss: 0.8594 - mse: 0.6273 - val_loss: 1.2240 - val_mse: 0.9914\n",
      "Epoch 25/500\n",
      "178/178 [==============================] - 0s 3ms/step - loss: 0.8521 - mse: 0.6191 - val_loss: 1.2215 - val_mse: 0.9881\n",
      "Epoch 26/500\n",
      "178/178 [==============================] - 1s 3ms/step - loss: 0.8447 - mse: 0.6110 - val_loss: 1.2191 - val_mse: 0.9850\n",
      "Epoch 27/500\n",
      "178/178 [==============================] - 0s 3ms/step - loss: 0.8372 - mse: 0.6029 - val_loss: 1.2167 - val_mse: 0.9822\n",
      "Epoch 28/500\n",
      "178/178 [==============================] - 1s 3ms/step - loss: 0.8297 - mse: 0.5951 - val_loss: 1.2141 - val_mse: 0.9791\n",
      "Epoch 29/500\n",
      "178/178 [==============================] - 1s 3ms/step - loss: 0.8224 - mse: 0.5874 - val_loss: 1.2122 - val_mse: 0.9771\n",
      "Epoch 30/500\n",
      "178/178 [==============================] - 0s 3ms/step - loss: 0.8149 - mse: 0.5798 - val_loss: 1.2105 - val_mse: 0.9752\n",
      "Epoch 31/500\n",
      "178/178 [==============================] - 0s 2ms/step - loss: 0.8075 - mse: 0.5721 - val_loss: 1.2089 - val_mse: 0.9736\n",
      "Epoch 32/500\n",
      "178/178 [==============================] - 0s 3ms/step - loss: 0.7997 - mse: 0.5645 - val_loss: 1.2066 - val_mse: 0.9713\n",
      "Epoch 33/500\n",
      "178/178 [==============================] - 0s 2ms/step - loss: 0.7923 - mse: 0.5570 - val_loss: 1.2060 - val_mse: 0.9708\n",
      "Epoch 34/500\n",
      "178/178 [==============================] - 0s 2ms/step - loss: 0.7847 - mse: 0.5495 - val_loss: 1.2040 - val_mse: 0.9688\n",
      "Epoch 35/500\n",
      "178/178 [==============================] - 0s 2ms/step - loss: 0.7772 - mse: 0.5422 - val_loss: 1.2032 - val_mse: 0.9681\n",
      "Epoch 36/500\n",
      "178/178 [==============================] - 0s 2ms/step - loss: 0.7695 - mse: 0.5345 - val_loss: 1.2015 - val_mse: 0.9667\n",
      "Epoch 37/500\n",
      "178/178 [==============================] - 0s 2ms/step - loss: 0.7619 - mse: 0.5273 - val_loss: 1.2006 - val_mse: 0.9658\n",
      "Epoch 38/500\n",
      "178/178 [==============================] - 0s 2ms/step - loss: 0.7544 - mse: 0.5199 - val_loss: 1.2006 - val_mse: 0.9662\n",
      "Epoch 39/500\n",
      "178/178 [==============================] - 1s 3ms/step - loss: 0.7471 - mse: 0.5127 - val_loss: 1.2000 - val_mse: 0.9656\n",
      "Epoch 40/500\n",
      "178/178 [==============================] - 1s 3ms/step - loss: 0.7395 - mse: 0.5053 - val_loss: 1.1988 - val_mse: 0.9646\n",
      "Epoch 41/500\n",
      "178/178 [==============================] - 0s 3ms/step - loss: 0.7322 - mse: 0.4982 - val_loss: 1.1997 - val_mse: 0.9658\n",
      "Epoch 42/500\n",
      "178/178 [==============================] - 1s 3ms/step - loss: 0.7250 - mse: 0.4912 - val_loss: 1.1989 - val_mse: 0.9651\n",
      "Epoch 43/500\n",
      "178/178 [==============================] - 1s 3ms/step - loss: 0.7176 - mse: 0.4840 - val_loss: 1.1988 - val_mse: 0.9652\n",
      "Epoch 44/500\n",
      "178/178 [==============================] - 0s 2ms/step - loss: 0.7107 - mse: 0.4771 - val_loss: 1.1988 - val_mse: 0.9652\n",
      "Epoch 45/500\n",
      "178/178 [==============================] - 0s 3ms/step - loss: 0.7037 - mse: 0.4703 - val_loss: 1.1982 - val_mse: 0.9647\n",
      "Epoch 46/500\n",
      "178/178 [==============================] - 0s 2ms/step - loss: 0.6968 - mse: 0.4635 - val_loss: 1.1989 - val_mse: 0.9656\n",
      "Epoch 47/500\n",
      "178/178 [==============================] - 0s 3ms/step - loss: 0.6901 - mse: 0.4569 - val_loss: 1.1996 - val_mse: 0.9664\n",
      "Epoch 48/500\n",
      "178/178 [==============================] - 0s 2ms/step - loss: 0.6835 - mse: 0.4504 - val_loss: 1.1998 - val_mse: 0.9666\n",
      "Epoch 49/500\n",
      "178/178 [==============================] - 0s 2ms/step - loss: 0.6769 - mse: 0.4438 - val_loss: 1.1999 - val_mse: 0.9665\n",
      "Epoch 50/500\n",
      "157/178 [=========================>....] - ETA: 0s - loss: 0.6689 - mse: 0.4358Restoring model weights from the end of the best epoch: 40.\n",
      "178/178 [==============================] - 0s 2ms/step - loss: 0.6706 - mse: 0.4374 - val_loss: 1.2004 - val_mse: 0.9672\n",
      "Epoch 50: early stopping\n"
     ]
    },
    {
     "data": {
      "text/plain": [
       "<keras.src.callbacks.History at 0x227c5222690>"
      ]
     },
     "execution_count": 46,
     "metadata": {},
     "output_type": "execute_result"
    }
   ],
   "source": [
    "from keras.callbacks import EarlyStopping\n",
    "\n",
    "X = [dataset[\"userId\"].to_numpy(), dataset[\"movieId\"].to_numpy()]\n",
    "y = dataset[\"rating\"].to_numpy()\n",
    "\n",
    "best_model=get_mf_bias_l2_reg_model(nb_users, nb_movies, k =15, lambda_ =2e-05)\n",
    "\n",
    "early_stopping = EarlyStopping(monitor='val_mse', patience=10, verbose=1, restore_best_weights=True)\n",
    "\n",
    "best_model.fit(X, y, epochs=500, batch_size=512, validation_split=0.1, callbacks=[early_stopping])"
   ]
  },
  {
   "cell_type": "markdown",
   "metadata": {},
   "source": [
    "## Recommend the top-5 movies for the 10 first users"
   ]
  },
  {
   "cell_type": "markdown",
   "metadata": {},
   "source": [
    "With your retrained best model with optimal hyper parameters, compute the predictions for all the ratings that are not in the `dataset` for the 10 first users (indexes from 0 to 9). That means all the movies $i$ that these users $u \\in 0,\\ldots,9$ haven't rated, thus all the $u,i$ combinations that are not in the `dataset` dataframe rows.\n",
    "\n",
    "Order these predicted ratings for these users by decreasing order, and print out the 5 first ones, i.e. the ones that have the highest predicted ratings. Use the *movies.csv* file to print the real titles."
   ]
  },
  {
   "cell_type": "code",
   "execution_count": 47,
   "metadata": {},
   "outputs": [],
   "source": [
    "def get_top5_for_user(model, user_id, dataset):\n",
    "    \"\"\"\n",
    "    Returns a list of the 5 movies that have the highest ratings among the unrated movies\n",
    "    of user `user_id`, along with a list of their predicted ratings.\n",
    "    \n",
    "    Input :\n",
    "        model : keras.models.Model : A trained matrix factorization model\n",
    "        user_id : int : The user id to use\n",
    "        dataset : DataFrame : The whole dataset, useful to find the movies \n",
    "            the user `user_id` has already rated\n",
    "    \n",
    "    Output :\n",
    "        five_best_movie_ids : list : The five movie ids among unrated movies by user `user_id` \n",
    "            that have the highest predicted ratings, in order\n",
    "        five_best_ratings : list : The corresponding five ratings\n",
    "    \"\"\"\n",
    "    \n",
    "\n",
    "    \n",
    "    seen_movies = dataset[dataset[\"userId\"] == user_id].movieId\n",
    "    all_movie_ids = list(range(nb_movies))\n",
    "    unseen_movies = np.array(list(set(all_movie_ids) - set(seen_movies)))\n",
    "    \n",
    "    user_id_array = np.full(unseen_movies.size, user_id)\n",
    "    predictions = model.predict([user_id_array,unseen_movies])\n",
    "    best_ratings = predictions.flatten().tolist()\n",
    "    #best_ratings_sorted = sorted(best_ratings, reverse=True)\n",
    "    #five_best_ratings = best_ratings_sorted[:5]\n",
    "\n",
    "\n",
    "    df = pd.DataFrame({'movieId': unseen_movies,'predicted_rating': best_ratings})\n",
    "    df = df.sort_values(by='predicted_rating', ascending=False)\n",
    "\n",
    "    five_best_movie_ids = df['movieId'].head(5).to_list()\n",
    "\n",
    "    five_best_ratings=df['predicted_rating'].head(5).to_list()\n",
    "\n",
    "    return five_best_movie_ids, five_best_ratings"
   ]
  },
  {
   "cell_type": "code",
   "execution_count": 63,
   "metadata": {},
   "outputs": [
    {
     "name": "stdout",
     "output_type": "stream",
     "text": [
      "297/297 [==============================] - 0s 1ms/step\n",
      "303/303 [==============================] - 0s 1ms/step\n",
      "303/303 [==============================] - 0s 1ms/step\n",
      "298/298 [==============================] - 0s 1ms/step\n",
      "303/303 [==============================] - 0s 1ms/step\n",
      "295/295 [==============================] - 0s 1ms/step\n",
      "300/300 [==============================] - 0s 1ms/step\n",
      "303/303 [==============================] - 0s 1ms/step\n",
      "303/303 [==============================] - 0s 1ms/step\n",
      "300/300 [==============================] - 0s 1ms/step\n"
     ]
    }
   ],
   "source": [
    "results_list = []\n",
    "for user_id in range(10):\n",
    "    r, t = get_top5_for_user(best_model, user_id, dataset)\n",
    "    results_list.append((user_id, r, t))\n",
    "\n",
    "df_list = []\n",
    "for result in results_list:\n",
    "    index, user_ids, ratings = result\n",
    "    df = pd.DataFrame({'user_Id': [index] * len(user_ids), 'movie_Id': user_ids, 'rating': ratings})\n",
    "    df_list.append(df)\n",
    "\n",
    "final_df = pd.concat(df_list, ignore_index=True)\n"
   ]
  },
  {
   "cell_type": "code",
   "execution_count": 64,
   "metadata": {},
   "outputs": [
    {
     "data": {
      "text/html": [
       "<div>\n",
       "<style scoped>\n",
       "    .dataframe tbody tr th:only-of-type {\n",
       "        vertical-align: middle;\n",
       "    }\n",
       "\n",
       "    .dataframe tbody tr th {\n",
       "        vertical-align: top;\n",
       "    }\n",
       "\n",
       "    .dataframe thead th {\n",
       "        text-align: right;\n",
       "    }\n",
       "</style>\n",
       "<table border=\"1\" class=\"dataframe\">\n",
       "  <thead>\n",
       "    <tr style=\"text-align: right;\">\n",
       "      <th></th>\n",
       "      <th>user_Id</th>\n",
       "      <th>movie_Id</th>\n",
       "      <th>rating</th>\n",
       "    </tr>\n",
       "  </thead>\n",
       "  <tbody>\n",
       "    <tr>\n",
       "      <th>0</th>\n",
       "      <td>0</td>\n",
       "      <td>3611</td>\n",
       "      <td>5.638836</td>\n",
       "    </tr>\n",
       "  </tbody>\n",
       "</table>\n",
       "</div>"
      ],
      "text/plain": [
       "   user_Id  movie_Id    rating\n",
       "0        0      3611  5.638836"
      ]
     },
     "execution_count": 64,
     "metadata": {},
     "output_type": "execute_result"
    }
   ],
   "source": [
    "final_df.head(1)"
   ]
  },
  {
   "cell_type": "code",
   "execution_count": 68,
   "metadata": {},
   "outputs": [],
   "source": [
    "dict_movies = dict(zip(df_movies['movieId'], df_movies['title']))\n",
    "inv_movie_ids_map = { v : k for k,v in movie_ids_map.items()}"
   ]
  },
  {
   "cell_type": "code",
   "execution_count": 53,
   "metadata": {},
   "outputs": [],
   "source": [
    "final_df['title'] = final_df['movie_Id'].map(inv_movie_ids_map).map(dict_movies)"
   ]
  },
  {
   "cell_type": "code",
   "execution_count": 62,
   "metadata": {},
   "outputs": [
    {
     "data": {
      "text/html": [
       "<div>\n",
       "<style scoped>\n",
       "    .dataframe tbody tr th:only-of-type {\n",
       "        vertical-align: middle;\n",
       "    }\n",
       "\n",
       "    .dataframe tbody tr th {\n",
       "        vertical-align: top;\n",
       "    }\n",
       "\n",
       "    .dataframe thead th {\n",
       "        text-align: right;\n",
       "    }\n",
       "</style>\n",
       "<table border=\"1\" class=\"dataframe\">\n",
       "  <thead>\n",
       "    <tr style=\"text-align: right;\">\n",
       "      <th></th>\n",
       "      <th>user_Id</th>\n",
       "      <th>movie_Id</th>\n",
       "      <th>rating</th>\n",
       "      <th>title</th>\n",
       "    </tr>\n",
       "  </thead>\n",
       "  <tbody>\n",
       "    <tr>\n",
       "      <th>7</th>\n",
       "      <td>1</td>\n",
       "      <td>6542</td>\n",
       "      <td>4.460761</td>\n",
       "      <td>Come and See (Idi i smotri) (1985)</td>\n",
       "    </tr>\n",
       "    <tr>\n",
       "      <th>28</th>\n",
       "      <td>5</td>\n",
       "      <td>1395</td>\n",
       "      <td>4.334063</td>\n",
       "      <td>Three Billboards Outside Ebbing, Missouri (2017)</td>\n",
       "    </tr>\n",
       "    <tr>\n",
       "      <th>13</th>\n",
       "      <td>2</td>\n",
       "      <td>73</td>\n",
       "      <td>2.849726</td>\n",
       "      <td>Star Wars: Episode VI - Return of the Jedi (1983)</td>\n",
       "    </tr>\n",
       "    <tr>\n",
       "      <th>38</th>\n",
       "      <td>7</td>\n",
       "      <td>3611</td>\n",
       "      <td>4.140248</td>\n",
       "      <td>Man Bites Dog (C'est arrivé près de chez vous)...</td>\n",
       "    </tr>\n",
       "    <tr>\n",
       "      <th>21</th>\n",
       "      <td>4</td>\n",
       "      <td>5056</td>\n",
       "      <td>4.302992</td>\n",
       "      <td>Swept Away (Travolti da un insolito destino ne...</td>\n",
       "    </tr>\n",
       "  </tbody>\n",
       "</table>\n",
       "</div>"
      ],
      "text/plain": [
       "    user_Id  movie_Id    rating  \\\n",
       "7         1      6542  4.460761   \n",
       "28        5      1395  4.334063   \n",
       "13        2        73  2.849726   \n",
       "38        7      3611  4.140248   \n",
       "21        4      5056  4.302992   \n",
       "\n",
       "                                                title  \n",
       "7                  Come and See (Idi i smotri) (1985)  \n",
       "28   Three Billboards Outside Ebbing, Missouri (2017)  \n",
       "13  Star Wars: Episode VI - Return of the Jedi (1983)  \n",
       "38  Man Bites Dog (C'est arrivé près de chez vous)...  \n",
       "21  Swept Away (Travolti da un insolito destino ne...  "
      ]
     },
     "execution_count": 62,
     "metadata": {},
     "output_type": "execute_result"
    }
   ],
   "source": [
    "final_df.sample(5)"
   ]
  },
  {
   "cell_type": "markdown",
   "metadata": {},
   "source": [
    "___Wip(start)"
   ]
  },
  {
   "cell_type": "code",
   "execution_count": null,
   "metadata": {},
   "outputs": [],
   "source": []
  },
  {
   "cell_type": "markdown",
   "metadata": {},
   "source": [
    "___Wip(end)"
   ]
  },
  {
   "cell_type": "code",
   "execution_count": 55,
   "metadata": {
    "scrolled": true
   },
   "outputs": [],
   "source": [
    "#TOFILL\n",
    "\n"
   ]
  },
  {
   "cell_type": "markdown",
   "metadata": {},
   "source": [
    "## Visualize the embeddings"
   ]
  },
  {
   "cell_type": "markdown",
   "metadata": {},
   "source": [
    "Let's now have a look at what is going on in the embedding space of the movies that we learnt. Our brain cannot picture anything beyond 3 dimensions, and we learnt high dimensional embeddings (k=15 or 30), so we are going to project the movies embeddings on a 2D plane, first with PCA, and then with another algorithm made for visualizing high dimensional spaces called t-sne."
   ]
  },
  {
   "cell_type": "markdown",
   "metadata": {},
   "source": [
    "### PCA"
   ]
  },
  {
   "cell_type": "markdown",
   "metadata": {},
   "source": [
    "You have already studied PCA, it is a useful technique for dimensionality reduction, but also simply for visualization. Don't forget to scale your embeddings first. To access the embeddings values of your keras model, have a look at the *get_weights()* function.\n",
    "\n",
    "Compute a PCA on all your movies embeddings, get the 2 first principal components, and do a scatter plot of all the movies on a 2D plane, where each movie is a point defined by the two values of the two first principal components of the PCA from its embedding. Add the titles of the movies to each point of the plot (use plotly to do so it will be clearer), and try to see if you can interpret the axes of the PCA through to different movie genres, like in Figure 3 from the article *Matrix Factorization Techniques for Recommender Systems*."
   ]
  },
  {
   "cell_type": "code",
   "execution_count": 56,
   "metadata": {},
   "outputs": [
    {
     "name": "stdout",
     "output_type": "stream",
     "text": [
      "<class 'pandas.core.frame.DataFrame'>\n"
     ]
    },
    {
     "data": {
      "text/html": [
       "<div>\n",
       "<style scoped>\n",
       "    .dataframe tbody tr th:only-of-type {\n",
       "        vertical-align: middle;\n",
       "    }\n",
       "\n",
       "    .dataframe tbody tr th {\n",
       "        vertical-align: top;\n",
       "    }\n",
       "\n",
       "    .dataframe thead th {\n",
       "        text-align: right;\n",
       "    }\n",
       "</style>\n",
       "<table border=\"1\" class=\"dataframe\">\n",
       "  <thead>\n",
       "    <tr style=\"text-align: right;\">\n",
       "      <th></th>\n",
       "      <th>x0</th>\n",
       "    </tr>\n",
       "  </thead>\n",
       "  <tbody>\n",
       "    <tr>\n",
       "      <th>0</th>\n",
       "      <td>1.908374</td>\n",
       "    </tr>\n",
       "    <tr>\n",
       "      <th>1</th>\n",
       "      <td>0.198213</td>\n",
       "    </tr>\n",
       "    <tr>\n",
       "      <th>2</th>\n",
       "      <td>1.565533</td>\n",
       "    </tr>\n",
       "    <tr>\n",
       "      <th>3</th>\n",
       "      <td>1.778692</td>\n",
       "    </tr>\n",
       "    <tr>\n",
       "      <th>4</th>\n",
       "      <td>1.783827</td>\n",
       "    </tr>\n",
       "    <tr>\n",
       "      <th>...</th>\n",
       "      <td>...</td>\n",
       "    </tr>\n",
       "    <tr>\n",
       "      <th>9719</th>\n",
       "      <td>-1.011566</td>\n",
       "    </tr>\n",
       "    <tr>\n",
       "      <th>9720</th>\n",
       "      <td>0.656665</td>\n",
       "    </tr>\n",
       "    <tr>\n",
       "      <th>9721</th>\n",
       "      <td>-0.541689</td>\n",
       "    </tr>\n",
       "    <tr>\n",
       "      <th>9722</th>\n",
       "      <td>-0.132024</td>\n",
       "    </tr>\n",
       "    <tr>\n",
       "      <th>9723</th>\n",
       "      <td>-2.310704</td>\n",
       "    </tr>\n",
       "  </tbody>\n",
       "</table>\n",
       "<p>9724 rows × 1 columns</p>\n",
       "</div>"
      ],
      "text/plain": [
       "            x0\n",
       "0     1.908374\n",
       "1     0.198213\n",
       "2     1.565533\n",
       "3     1.778692\n",
       "4     1.783827\n",
       "...        ...\n",
       "9719 -1.011566\n",
       "9720  0.656665\n",
       "9721 -0.541689\n",
       "9722 -0.132024\n",
       "9723 -2.310704\n",
       "\n",
       "[9724 rows x 1 columns]"
      ]
     },
     "execution_count": 56,
     "metadata": {},
     "output_type": "execute_result"
    }
   ],
   "source": [
    "from sklearn.preprocessing import StandardScaler\n",
    "from sklearn.decomposition import PCA\n",
    "import plotly.express as px\n",
    "\n",
    "#Access the embeddings values of keras model \n",
    "embeddings = best_model.get_weights()[3]\n",
    "\n",
    "# Scaling the embeddings\n",
    "scaler = StandardScaler().set_output(transform=\"pandas\")\n",
    "embeddings_norm = scaler.fit_transform(embeddings)\n",
    "print(type(embeddings_norm))\n",
    "embeddings_norm\n"
   ]
  },
  {
   "cell_type": "code",
   "execution_count": null,
   "metadata": {},
   "outputs": [],
   "source": [
    "\n",
    "\n"
   ]
  },
  {
   "cell_type": "code",
   "execution_count": null,
   "metadata": {},
   "outputs": [],
   "source": []
  },
  {
   "cell_type": "markdown",
   "metadata": {},
   "source": [
    "## t-sne"
   ]
  },
  {
   "cell_type": "markdown",
   "metadata": {},
   "source": [
    "Let's do the same with t-sne, an algorithm specialized for visualizing high dimensional spaces, you can read more about it there : https://en.wikipedia.org/wiki/T-distributed_stochastic_neighbor_embedding"
   ]
  },
  {
   "cell_type": "code",
   "execution_count": 57,
   "metadata": {},
   "outputs": [],
   "source": [
    "from sklearn.manifold import TSNE\n",
    "\n",
    "#TOFILL:\n"
   ]
  },
  {
   "cell_type": "markdown",
   "metadata": {},
   "source": [
    "T-sne in general tends to preserve local similarities better than PCA. In any case, it's always interesting to try both for visualizing high dimensional data."
   ]
  },
  {
   "cell_type": "code",
   "execution_count": null,
   "metadata": {},
   "outputs": [],
   "source": []
  },
  {
   "cell_type": "markdown",
   "metadata": {},
   "source": [
    "Optionally, you can export your embedding and upload them on https://projector.tensorflow.org/ to visualize the embeddings in 3D. You can also use the movies genres from the *movies.csv* file to make one plot for each movie genre and try to see if some parts of the embedding space are representative of a movie genre."
   ]
  },
  {
   "cell_type": "markdown",
   "metadata": {},
   "source": [
    "# GOING FURTHER"
   ]
  },
  {
   "cell_type": "markdown",
   "metadata": {},
   "source": [
    "## Recommend movies to yourself"
   ]
  },
  {
   "cell_type": "markdown",
   "metadata": {},
   "source": [
    "Implement a function that ask you to rate 20 movies, then add your own ratings to the dataset, retrain the model, and compute your own top-5 predictions."
   ]
  },
  {
   "cell_type": "code",
   "execution_count": 58,
   "metadata": {
    "scrolled": true
   },
   "outputs": [
    {
     "ename": "NameError",
     "evalue": "name 'my_ratings' is not defined",
     "output_type": "error",
     "traceback": [
      "\u001b[1;31m---------------------------------------------------------------------------\u001b[0m",
      "\u001b[1;31mNameError\u001b[0m                                 Traceback (most recent call last)",
      "Cell \u001b[1;32mIn[58], line 29\u001b[0m\n\u001b[0;32m     24\u001b[0m     \u001b[38;5;28;01mreturn\u001b[39;00m my_ratings\n\u001b[0;32m     27\u001b[0m my_user_id \u001b[38;5;241m=\u001b[39m \u001b[38;5;28mlen\u001b[39m(user_ids_map)\n\u001b[1;32m---> 29\u001b[0m my_ratings \u001b[38;5;241m=\u001b[39m rate_my_movies(my_user_id, dataset, nb_movies, \u001b[38;5;241m20\u001b[39m, movie_ids_map)\n",
      "Cell \u001b[1;32mIn[58], line 24\u001b[0m, in \u001b[0;36mrate_my_movies\u001b[1;34m(my_user_id, dataset, nb_movies, nb_to_rate, movie_ids_map)\u001b[0m\n\u001b[0;32m      4\u001b[0m \u001b[38;5;250m\u001b[39m\u001b[38;5;124;03m\"\"\"\u001b[39;00m\n\u001b[0;32m      5\u001b[0m \u001b[38;5;124;03mReturns a dataframe in the same format as the dataset dataframe, with\u001b[39;00m\n\u001b[0;32m      6\u001b[0m \u001b[38;5;124;03mratings entered by the user for `nb_to_rate` random movies\u001b[39;00m\n\u001b[1;32m   (...)\u001b[0m\n\u001b[0;32m     17\u001b[0m \u001b[38;5;124;03m        the new ratings entered by the user\u001b[39;00m\n\u001b[0;32m     18\u001b[0m \u001b[38;5;124;03m\"\"\"\u001b[39;00m\n\u001b[0;32m     19\u001b[0m \u001b[38;5;66;03m#TOFILL\u001b[39;00m\n\u001b[1;32m---> 24\u001b[0m \u001b[38;5;28;01mreturn\u001b[39;00m my_ratings\n",
      "\u001b[1;31mNameError\u001b[0m: name 'my_ratings' is not defined"
     ]
    }
   ],
   "source": [
    "import random\n",
    "\n",
    "def rate_my_movies(my_user_id, dataset, nb_movies, nb_to_rate, movie_ids_map):\n",
    "    \"\"\"\n",
    "    Returns a dataframe in the same format as the dataset dataframe, with\n",
    "    ratings entered by the user for `nb_to_rate` random movies\n",
    "    \n",
    "    Input :\n",
    "        my_user_id : int : The user_id of the new ratings\n",
    "        dataset : DataFrame : The whole dataset \n",
    "        nb_movies : int : Number of unique movie ids\n",
    "        nb_to_rate : int : Number of movies to rate\n",
    "        movie_ids_map : dict : The mapping of original file userId to a new index starting at 0.\n",
    "    \n",
    "    Output : \n",
    "        my_ratings : DataFrame : A dataframe with the same column as `dataset` containing\n",
    "            the new ratings entered by the user\n",
    "    \"\"\"\n",
    "    #TOFILL\n",
    " \n",
    "\n",
    "\n",
    "\n",
    "    return my_ratings\n",
    "\n",
    "\n",
    "my_user_id = len(user_ids_map)\n",
    "\n",
    "my_ratings = rate_my_movies(my_user_id, dataset, nb_movies, 20, movie_ids_map)\n",
    "\n"
   ]
  },
  {
   "cell_type": "code",
   "execution_count": null,
   "metadata": {},
   "outputs": [],
   "source": [
    "dataset_with_me = pd.concat([dataset, my_ratings], axis = 0).sample(frac=1).reset_index(drop=True)\n",
    "\n",
    "X_with_me = [dataset_with_me[\"userId\"].to_numpy(), dataset_with_me[\"movieId\"].to_numpy()]\n",
    "y_with_me = dataset_with_me[\"rating\"].to_numpy()\n"
   ]
  },
  {
   "cell_type": "code",
   "execution_count": null,
   "metadata": {
    "scrolled": true
   },
   "outputs": [],
   "source": [
    "best_model=get_mf_bias_l2_reg_model(nb_users + 1, nb_movies, k = best_params['k'], lambda_ = best_params['lambda_'])\n",
    "\n",
    "early_stopping = EarlyStopping(monitor='val_mse', patience=10, verbose=1, restore_best_weights=True)\n",
    "\n",
    "best_model.fit(X_with_me, y_with_me, epochs=500, batch_size=512, validation_split=0.1, callbacks=[early_stopping])"
   ]
  },
  {
   "cell_type": "code",
   "execution_count": null,
   "metadata": {},
   "outputs": [],
   "source": [
    "five_best_movie_ids, five_best_ratings =  get_top5_for_user(best_model, my_user_id, dataset)\n",
    "for i in range(5):\n",
    "    print('\\t' + ml_movie_id_to_title[ inverse_movie_ids_map[ five_best_movie_ids[i] ] ] + \n",
    "          '; predicted rating : ' + str(five_best_ratings[i]) )\n",
    "print('')"
   ]
  },
  {
   "cell_type": "code",
   "execution_count": null,
   "metadata": {},
   "outputs": [],
   "source": []
  },
  {
   "cell_type": "markdown",
   "metadata": {},
   "source": [
    "## Reuse the movie embeddings to predict the movies genre with multi-label classification"
   ]
  },
  {
   "cell_type": "markdown",
   "metadata": {},
   "source": [
    "Beyond the goal of predicting missing rating, the matrix factorization techniques also produces vectorial representation of movies and users: their embeddings, what we just visualized for the movies. With a big enough dataset, these embeddings actually are good abstract representations of the movies and of the users, and can be reused as features for other tasks, such as classification.\n",
    "\n",
    "In the *movies.csv*, there is a column that gives the genres of each movie. Let's try to predict the genres of the movies from the embeddings we learnt. As you can see, each movie can have more than one genre, so in classification terms, more than one class. We can achieve that with *multilabel classification*. You can read more about it there: https://scikit-learn.org/stable/modules/multiclass.html\n",
    "\n",
    "Load the movies genre, encode them as binary classes and use the classes imported below to train a multilabel classifier that uses the movie embeddings as features, and the movie genres as classes. Use the *OneVsRestClassifier* with a simple *LinearSVC* without any hyper-parameter tuning. Finally print the test accuracy, F1, precision and recall for each class, as well as the number of time each class appears in the dataset."
   ]
  },
  {
   "cell_type": "code",
   "execution_count": null,
   "metadata": {},
   "outputs": [],
   "source": [
    "from sklearn.preprocessing import MultiLabelBinarizer\n",
    "from sklearn.model_selection import train_test_split\n",
    "from sklearn.multiclass import OneVsRestClassifier\n",
    "from sklearn.svm import LinearSVC\n",
    "from sklearn.metrics import accuracy_score, f1_score, precision_score, recall_score\n",
    "\n",
    "#TOFILL\n"
   ]
  },
  {
   "cell_type": "markdown",
   "metadata": {},
   "source": [
    "On rare classes, you should get a very high accuracy, with a very low F1. Indeed these classes are really imbalanced : there are a few positives, hence the classifier is largely biased toward the negatives, and rarely predict a positive for these classes. This is why accuracy is generally a bad measure with imbalanced dataset : the high number of true negatives makes the accuracy number high, while our model is actually barely capable of predicting true positives.\n",
    "\n",
    "Let's compare our classifier performance with a *DummyClassifier*, the dummy classifier takes the ratio $r = \\frac{nb\\_positives}{nb\\_positives + nb\\_negatives}$ as the probability to predict a positive, and then do it randomly."
   ]
  },
  {
   "cell_type": "code",
   "execution_count": null,
   "metadata": {
    "scrolled": true
   },
   "outputs": [],
   "source": [
    "from sklearn.dummy import DummyClassifier\n",
    "\n",
    "#TOFILL\n",
    "\n"
   ]
  },
  {
   "cell_type": "markdown",
   "metadata": {},
   "source": [
    "As you can see, simply respecting the class balance, even at random, produces better F1 on most classes. One way to compensate for class imbalance is to tell the classifier to weight more the true samples at training time, accordingly with the ratio $r$ between true and false samples. With scikit-learn SVM implementation, you can use the argument *class_weight* for setting the weight of the positive and negative samples at training time. See : https://scikit-learn.org/stable/auto_examples/svm/plot_separating_hyperplane_unbalanced.html\n",
    "\n",
    "But if you just want to set the class weights accordingly with the ratio between positives and negatives, you can just set *class_weight = ‘balanced’*. Test it with the LinearSVC classifier:"
   ]
  },
  {
   "cell_type": "code",
   "execution_count": null,
   "metadata": {
    "scrolled": true
   },
   "outputs": [],
   "source": [
    "#TOFILL\n",
    "\n"
   ]
  },
  {
   "cell_type": "markdown",
   "metadata": {},
   "source": [
    "F1 is now much better than with the dummy classifier, however is is still not very convincing. This is quite normal given the size of the dataset we are using, which is pretty small to get really meaningful embeddings. But with bigger datasets, reusing embeddings as features for auxiliary tasks such as classification is actually a very effective way of doing so when there is no other informations about the items we try to classify. Here the items are the movies, the dataset doesn't provide more information about them, but one could imagine fetching from internet textual descriptions of the movies and use them as features alongside the embeddings to improve the classification results."
   ]
  },
  {
   "cell_type": "markdown",
   "metadata": {},
   "source": [
    "## Try out the different SGD algorithms"
   ]
  },
  {
   "cell_type": "markdown",
   "metadata": {},
   "source": [
    "In all the notebook we used the 'adam' `optimizer` to train our model, which is a variation of SGD. Keras proposes different variations of SGD: https://keras.io/optimizers/ . This article gif images gives an intuitive view of their different behavior : https://medium.com/@ramrajchandradevan/the-evolution-of-gradient-descend-optimization-algorithm-4106a6702d39\n",
    "\n",
    "Try a few ones with our model and see how the training and testing loss evolves."
   ]
  },
  {
   "cell_type": "code",
   "execution_count": null,
   "metadata": {},
   "outputs": [],
   "source": [
    "#TOFILL"
   ]
  },
  {
   "cell_type": "markdown",
   "metadata": {},
   "source": [
    "## Add the global bias $\\mu$  parameter to the model"
   ]
  },
  {
   "cell_type": "markdown",
   "metadata": {},
   "source": [
    "Remember we didn't added the global bias $\\mu$ to our model yet (Equations (4-5) from Koren's paper). Use your best google skills to find a way to add an embedding layer that does that.\n",
    "\n",
    "Hint : Use a constant `Input` layer."
   ]
  },
  {
   "cell_type": "code",
   "execution_count": null,
   "metadata": {},
   "outputs": [],
   "source": [
    "from keras import backend as K\n",
    "#TOFILL\n"
   ]
  },
  {
   "cell_type": "code",
   "execution_count": null,
   "metadata": {},
   "outputs": [],
   "source": []
  },
  {
   "cell_type": "code",
   "execution_count": null,
   "metadata": {},
   "outputs": [],
   "source": []
  },
  {
   "cell_type": "code",
   "execution_count": null,
   "metadata": {},
   "outputs": [],
   "source": []
  },
  {
   "cell_type": "markdown",
   "metadata": {},
   "source": [
    "## Implement your own Stochastic Gradient Descent for Matrix Factorization with numpy instead of Keras (very optional)"
   ]
  },
  {
   "cell_type": "markdown",
   "metadata": {},
   "source": [
    "Now you know everything to implement your own matrix factorization SGD model, all with numpy arrays. Start without the biases again, and without mini-batches. The gradient update equations are described in page 4 of Koren's paper. Let's initialize your $p$ and $q$ embeddings with a gaussian sampling. Print the RMSE at the beginning of each epoch, and finally compute the RMSE of your model on the test set."
   ]
  },
  {
   "cell_type": "code",
   "execution_count": null,
   "metadata": {},
   "outputs": [],
   "source": [
    "from numpy.random import normal\n",
    "\n",
    "P = normal(size = (nb_users,k))\n",
    "Q = normal(size = (nb_movies,k))\n",
    "\n",
    "gamma = 0.1\n",
    "lambda_ = 0.00001\n",
    "epochs = 10\n",
    "\n",
    "for e in range(epochs):\n",
    "    for j in range(train.shape[0]):\n",
    "        u = train['userId'].iloc[j]\n",
    "        i = train['movieId'].iloc[j]\n",
    "        r_ui = train['rating'].iloc[j]\n",
    "        \n",
    "        #TOFILL\n"
   ]
  },
  {
   "cell_type": "code",
   "execution_count": null,
   "metadata": {},
   "outputs": [],
   "source": []
  },
  {
   "cell_type": "code",
   "execution_count": null,
   "metadata": {},
   "outputs": [],
   "source": []
  }
 ],
 "metadata": {
  "kernelspec": {
   "display_name": "Python 3 (ipykernel)",
   "language": "python",
   "name": "python3"
  },
  "language_info": {
   "codemirror_mode": {
    "name": "ipython",
    "version": 3
   },
   "file_extension": ".py",
   "mimetype": "text/x-python",
   "name": "python",
   "nbconvert_exporter": "python",
   "pygments_lexer": "ipython3",
   "version": "3.11.5"
  }
 },
 "nbformat": 4,
 "nbformat_minor": 4
}
